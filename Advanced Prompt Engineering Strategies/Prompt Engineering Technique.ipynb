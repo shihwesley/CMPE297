{
 "cells": [
  {
   "cell_type": "code",
   "execution_count": 2,
   "metadata": {},
   "outputs": [],
   "source": [
    "from openai import OpenAI\n",
    "import os"
   ]
  },
  {
   "cell_type": "code",
   "execution_count": 3,
   "metadata": {},
   "outputs": [],
   "source": [
    "openai_api_key = os.environ.get('OPENAI_API_KEY')\n",
    "client = OpenAI(api_key= openai_api_key)"
   ]
  },
  {
   "cell_type": "code",
   "execution_count": 17,
   "metadata": {},
   "outputs": [],
   "source": [
    "def prompt(prompt):\n",
    "\n",
    "    \"\"\"\n",
    "    Sends an ICL style prompt to GPT-4 and returns the completion.\n",
    "\n",
    "    Args:\n",
    "    - prompt (str): The partial input to be completed by the model.\n",
    "    - model (str, optional): The model to be used. Defaults to \"text-davinci-003\".\n",
    "    - max_tokens (int, optional): The maximum number of tokens to generate. Defaults to 100.\n",
    "\n",
    "    Returns:\n",
    "    - str: The completed text.\n",
    "    \"\"\"\n",
    "\n",
    "    PROMPT_MESSAGES = [\n",
    "            {\n",
    "                \"role\": \"user\",\n",
    "                \"content\": [\n",
    "                    {\n",
    "                        \"type\": \"text\",\n",
    "                        \"text\": prompt\n",
    "                    },\n",
    "                ],\n",
    "            },\n",
    "        ]\n",
    "    response = client.chat.completions.create(\n",
    "        model=\"gpt-4-1106-preview\",\n",
    "        messages=PROMPT_MESSAGES\n",
    "    )\n",
    "    return response.choices[0].message.content\n",
    "\n"
   ]
  },
  {
   "cell_type": "code",
   "execution_count": 10,
   "metadata": {},
   "outputs": [
    {
     "name": "stdout",
     "output_type": "stream",
     "text": [
      "ICL Response: Bonjour, comment vas-tu ? (informal) or Bonjour, comment allez-vous ? (formal)\n"
     ]
    }
   ],
   "source": [
    "# Implicit Completion Learning (ICL)\n",
    "icl_prompt = \"Translate the following English text to French: 'Hello, how are you?'\"\n",
    "icl_response = prompt(icl_prompt)\n",
    "print(\"ICL Response:\", icl_response)\n"
   ]
  },
  {
   "cell_type": "code",
   "execution_count": 12,
   "metadata": {},
   "outputs": [
    {
     "name": "stdout",
     "output_type": "stream",
     "text": [
      "CoT Response: Certainly! Let's go through the process step by step:\n",
      "\n",
      "1. Start with the initial amount of apples you have, which is 3 apples.\n",
      "\n",
      "2. You eat 2 of those apples. When you eat the apples, they are no longer left in your possession because they've been consumed.\n",
      "\n",
      "3. To find out how many apples you have remaining, subtract the number of apples you've eaten from the initial amount.\n",
      "\n",
      "Calculation:\n",
      "Initial number of apples (3) - Number of apples eaten\n"
     ]
    }
   ],
   "source": [
    "# Chain of Thought (CoT)\n",
    "cot_prompt = \"I have 3 apples and eat 2, how many do I have left? Let's think step by step.\"\n",
    "cot_response = prompt(cot_prompt)\n",
    "print(\"CoT Response:\", cot_response)"
   ]
  },
  {
   "cell_type": "code",
   "execution_count": 13,
   "metadata": {},
   "outputs": [
    {
     "name": "stdout",
     "output_type": "stream",
     "text": [
      "iCoT Response: Certainly! Let's break down 17 times 24 into smaller steps:\n",
      "\n",
      "Step 1: Multiply the ones digit of the second number by the entire first number.\n",
      "        17\n",
      "    ×   24\n",
      "    ------\n",
      "       (4 × 17) which is (4 × 10) + (4 × 7) = 40 + 28 = 68\n",
      "\n",
      "Step 2: Write down 68, but since it's the ones place, we only write 8\n"
     ]
    }
   ],
   "source": [
    "# Iterated Chain of Thought (iCoT)\n",
    "icot_prompt = \"What is 17 times 24? Let's break it down into smaller steps.\"\n",
    "icot_response = prompt(icot_prompt)\n",
    "print(\"iCoT Response:\", icot_response)"
   ]
  },
  {
   "cell_type": "code",
   "execution_count": 14,
   "metadata": {},
   "outputs": [
    {
     "name": "stdout",
     "output_type": "stream",
     "text": [
      "ToT Response: Calculating the standard deviation of a dataset involves several steps. The standard deviation is a measure of the amount of variation or dispersion of a set of values. To calculate it, follow these steps:\n",
      "\n",
      "1. **Find the mean (average)**:\n",
      "   - Add up all the values in the dataset.\n",
      "   - Divide the sum by the total number of values (N) to get the mean (also known as the average).\n",
      "\n",
      "2. **Calculate the deviations from the mean**:\n",
      "   - Subtract the\n"
     ]
    }
   ],
   "source": [
    "# Tool of Thought (ToT)\n",
    "tot_prompt = \"List the steps to calculate the standard deviation of a dataset.\"\n",
    "tot_response = prompt(tot_prompt)\n",
    "print(\"ToT Response:\", tot_response)"
   ]
  },
  {
   "cell_type": "code",
   "execution_count": 15,
   "metadata": {},
   "outputs": [
    {
     "name": "stdout",
     "output_type": "stream",
     "text": [
      "GoT Response: In a world where silvery gears meshed with pulsing circuits, and the hum of electricity was mistaken for the whisper of the wind, there existed a robot known simply as Arte. Arte was assembled in Factory Unit 17, a place known for creating utilitarian machines designed to perfect the mundane tasks assigned to mechanized labor. However, Arte was different, for inside its chest cavity, next to its central processing unit, there nestled an anomaly—a chip infused with a spark of creativity.\n",
      "\n",
      "Designed to\n"
     ]
    }
   ],
   "source": [
    "# Generation of Thought (GoT)\n",
    "got_prompt = \"Come up with a creative story about a robot learning to paint.\"\n",
    "got_response = prompt(got_prompt)\n",
    "print(\"GoT Response:\", got_response)"
   ]
  },
  {
   "cell_type": "code",
   "execution_count": 18,
   "metadata": {},
   "outputs": [
    {
     "name": "stdout",
     "output_type": "stream",
     "text": [
      "AoT Response: \"The Road Not Taken\" by Robert Frost is one of the most widely interpreted and cherished poems in American literature, often cited as an ode to individualism and nonconformity. Written in 1915 and published in 1916 in Frost's poetry collection \"Mountain Interval,\" the poem uses the metaphor of a traveler at a crossroads to explore the choice between two paths in life. Here is an analysis of the poem:\n",
      "\n",
      "### Text of the Poem:\n",
      "Two roads diverged in a yellow wood,\n",
      "And sorry I could not travel both\n",
      "And be one traveler, long I stood\n",
      "And looked down one as far as I could\n",
      "To where it bent in the undergrowth;\n",
      "\n",
      "Then took the other, as just as fair,\n",
      "And having perhaps the better claim,\n",
      "Because it was grassy and wanted wear;\n",
      "Though as for that the passing there\n",
      "Had worn them really about the same,\n",
      "\n",
      "And both that morning equally lay\n",
      "In leaves no step had trodden black.\n",
      "Oh, I kept the first for another day!\n",
      "Yet knowing how way leads on to way,\n",
      "I doubted if I should ever come back.\n",
      "\n",
      "I shall be telling this with a sigh\n",
      "Somewhere ages and ages hence:\n",
      "Two roads diverged in a wood, and I—\n",
      "I took the one less traveled by,\n",
      "And that has made all the difference.\n",
      "\n",
      "### Analysis:\n",
      "\n",
      "**Form and Structure:**\n",
      "The poem consists of four stanzas of five lines each, following an ABAAB rhyme scheme. Frost uses iambic tetrameter, giving a steady rhythmic quality that echoes the act of walking.\n",
      "\n",
      "**Metaphor and Symbolism:**\n",
      "The central metaphor of the poem is the fork in the road, representing a choice between two different paths in life. The \"yellow wood\" suggests that it is autumn, a time often associated with change and the maturation of life.\n",
      "\n",
      "**Themes:**\n",
      "The poem deals with themes of choice, individuality, consequence, and the limits of knowledge. It speaks to the nature of decisions and the idea that every choice we make helps to shape our destiny.\n",
      "\n",
      "**Analysis of Content:**\n",
      "- The traveler encounters two equally viable paths, symbolizing life's choices that appear to be equal in their potential.\n",
      "- The speaker examines one path, trying to foresee the outcome but realizes that the future remains obscured.\n",
      "- Choosing the \"grassier\" path, which \"wanted wear,\" the speaker implies a decision to take a less conventional route.\n",
      "- The honesty of the speaker is evident as they admit that both paths were, in fact, worn about the same. This dispels the notion of one being less traveled and introduces an element of ambiguity.\n",
      "- Accepting that choices in life are final, the speaker doubts they will ever return to explore the other option.\n",
      "\n",
      "**Diction and Tone:**\n",
      "Frost's use of simple language conveys a conversational tone, but it resonates with deeper philosophical contemplations. The poem ends with a reflective and somewhat ambiguous tone, where the speaker predicts they will recount their choice \"with a sigh,\" leaving it open to interpretation whether that is a sigh of contentment or regret.\n",
      "\n",
      "**Last Stanza and Its Significance:**\n",
      "The final stanza is often read as a triumphant affirmation of choosing a unique path (\"the one less traveled by\"), but Frost himself remarked that the poem was written somewhat tongue-in-cheek and suggested a more complex interpretation. The speaker admits only in retrospect that their choice \"has made all the difference,\" not whether it was for better or worse.\n",
      "\n",
      "### Conclusion:\n",
      "The beauty of \"The Road Not Taken\" lies in its ambiguity and the rich interpretive possibilities it presents. Rather than offering a clear message on the virtues of nonconformity, Frost crafts a narrative that mirrors the intricate and often uncertain nature of life's decisions. It's a poem that reflects back on the reader their personal experiences with choice and consequence. Frost encourages readers to introspect on the impact of choices in shaping one's life without definitively stating if the road taken was the right one.\n"
     ]
    }
   ],
   "source": [
    "# Analysis of Thought (AoT)\n",
    "aot_prompt = \"Analyze the poem 'The Road Not Taken' by Robert Frost.\"\n",
    "aot_response = prompt(aot_prompt)\n",
    "print(\"AoT Response:\", aot_response)"
   ]
  },
  {
   "cell_type": "code",
   "execution_count": 19,
   "metadata": {},
   "outputs": [
    {
     "name": "stdout",
     "output_type": "stream",
     "text": [
      "RASCEF Response: The impact of renewable energy on the global economy is multifaceted and profound, influencing various sectors, creating new industries, and affecting national and global economic dynamics in several ways:\n",
      "\n",
      "1. Job Creation: The renewable energy sector is labor-intensive, leading to numerous job opportunities in manufacturing, installation, operations, and maintenance. Regions investing in renewable energy can see significant employment growth, particularly in solar, wind, hydro power, and bioenergy industries.\n",
      "\n",
      "2. Energy Independence: Countries with strong renewable infrastructure become less reliant on imported fossil fuels, improving their trade balance and reducing vulnerability to volatile global energy prices. Energy independence can boost economic stability and security.\n",
      "\n",
      "3. Investment and Growth: Renewable energy projects often attract substantial investments. This influx of capital can stimulate economic growth through infrastructure development, technology innovation, and spillover effects into other sectors of the economy.\n",
      "\n",
      "4. Lower Energy Costs: Over time, renewables can offer lower and more stable energy prices compared to fossil fuels due to their low marginal costs of production. This can lead to lower operating costs for businesses and more disposable income for consumers, potentially increasing spending in other areas of the economy.\n",
      "\n",
      "5. Technological Innovation: The push for clean energy fosters research and development in new technologies, potentially leading to breakthroughs in energy storage, grid management, and efficiency. These innovations can have positive impacts beyond the energy sector, enhancing overall productivity.\n",
      "\n",
      "6. Climate Change Mitigation: Renewable energy reduces greenhouse gas emissions, helping to mitigate climate impacts that can be economically devastating. This includes reducing costs associated with health care due to pollution, agricultural losses, property damage from extreme weather events, and overall climate resilience.\n",
      "\n",
      "7. Energy Access: Renewable technologies, particularly solar and wind, can be deployed in rural and remote areas, offering access to electricity for the first time. This can have transformative effects on local economies, enabling the development of new markets and improving living standards.\n",
      "\n",
      "8. Transition Costs: The transition to a renewable-based economy can have disruptive effects on the fossil fuel industry, leading to job losses and economic decline in regions dependent on coal, oil, and natural gas extraction and processing.\n",
      "\n",
      "9. Infrastructure Development: The expansion of renewable energy requires the development of new grid infrastructure, including smarter grid technologies and energy storage solutions. This represents significant economic opportunities in construction, engineering, and manufacturing.\n",
      "\n",
      "10. Policy and Regulation: Government policies and incentives to encourage renewable energy development can have far-reaching economic effects. Subsidies, tax breaks, and feed-in tariffs can shift investments toward renewables, while regulations like carbon pricing can make fossil fuels less competitive.\n",
      "\n",
      "11. International Trade: The growth in renewable energy technologies has fostered new markets and trade opportunities. Leaders in technology development and manufacturing, such as China for solar panels or Denmark for wind turbines, benefit from increased exports.\n",
      "\n",
      "12. Resource Management: Renewable energy reduces pressure on finite natural resources by providing alternatives to fossil fuels. This can lead to a more sustainable economic model in the long term by preserving natural capital. \n",
      "\n",
      "The overall impact of renewable energy on the global economy is generally positive, especially when considering long-term benefits such as sustainability and resilience. However, the transition to a clean energy economy also presents challenges, including the need for upskilling, economic diversification for regions reliant on fossil fuels, and ensuring equitable access to the benefits of renewable energy.\n"
     ]
    }
   ],
   "source": [
    "# Reason, Assess, Speculate, Challenge, Explain, Forecast (RASCEF)\n",
    "rascef_prompt = \"Evaluate the impact of renewable energy on the global economy. Consider various factors.\"\n",
    "rascef_response = prompt(rascef_prompt)\n",
    "print(\"RASCEF Response:\", rascef_response)\n"
   ]
  },
  {
   "cell_type": "code",
   "execution_count": null,
   "metadata": {},
   "outputs": [],
   "source": [
    "# REACT\n",
    "react_prompt = \"Explain Newton's Third Law of Motion in simple terms and provide an example.\"\n",
    "react_response = query(react_prompt)\n",
    "print(\"REACT Response:\", react_response)"
   ]
  }
 ],
 "metadata": {
  "kernelspec": {
   "display_name": "ST",
   "language": "python",
   "name": "python3"
  },
  "language_info": {
   "codemirror_mode": {
    "name": "ipython",
    "version": 3
   },
   "file_extension": ".py",
   "mimetype": "text/x-python",
   "name": "python",
   "nbconvert_exporter": "python",
   "pygments_lexer": "ipython3",
   "version": "3.10.12"
  }
 },
 "nbformat": 4,
 "nbformat_minor": 2
}
