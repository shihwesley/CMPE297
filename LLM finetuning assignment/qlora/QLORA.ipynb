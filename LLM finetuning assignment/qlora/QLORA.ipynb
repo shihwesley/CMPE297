{
  "nbformat": 4,
  "nbformat_minor": 0,
  "metadata": {
    "colab": {
      "provenance": []
    },
    "kernelspec": {
      "name": "python3",
      "display_name": "Python 3"
    },
    "language_info": {
      "name": "python"
    }
  },
  "cells": [
    {
      "cell_type": "markdown",
      "source": [
        "###**Fine-Tune LLM with QLORA**\n"
      ],
      "metadata": {
        "id": "XIyP_0r6zuVc"
      }
    },
    {
      "cell_type": "code",
      "execution_count": null,
      "metadata": {
        "id": "FuXIFTFapAMI",
        "colab": {
          "base_uri": "https://localhost:8080/"
        },
        "outputId": "69ffc5d7-cd46-424f-f262-d6ad41bc3f60"
      },
      "outputs": [
        {
          "output_type": "stream",
          "name": "stdout",
          "text": [
            "\u001b[2K     \u001b[90m━━━━━━━━━━━━━━━━━━━━━━━━━━━━━━━━━━━━━━━━\u001b[0m \u001b[32m92.2/92.2 MB\u001b[0m \u001b[31m2.7 MB/s\u001b[0m eta \u001b[36m0:00:00\u001b[0m\n",
            "\u001b[?25h  Installing build dependencies ... \u001b[?25l\u001b[?25hdone\n",
            "  Getting requirements to build wheel ... \u001b[?25l\u001b[?25hdone\n",
            "  Preparing metadata (pyproject.toml) ... \u001b[?25l\u001b[?25hdone\n",
            "\u001b[2K     \u001b[90m━━━━━━━━━━━━━━━━━━━━━━━━━━━━━━━━━━━━━━\u001b[0m \u001b[32m224.5/224.5 kB\u001b[0m \u001b[31m20.0 MB/s\u001b[0m eta \u001b[36m0:00:00\u001b[0m\n",
            "\u001b[2K     \u001b[90m━━━━━━━━━━━━━━━━━━━━━━━━━━━━━━━━━━━━━━━━\u001b[0m \u001b[32m7.8/7.8 MB\u001b[0m \u001b[31m105.6 MB/s\u001b[0m eta \u001b[36m0:00:00\u001b[0m\n",
            "\u001b[2K     \u001b[90m━━━━━━━━━━━━━━━━━━━━━━━━━━━━━━━━━━━━━━━━\u001b[0m \u001b[32m1.3/1.3 MB\u001b[0m \u001b[31m79.7 MB/s\u001b[0m eta \u001b[36m0:00:00\u001b[0m\n",
            "\u001b[?25h  Building wheel for transformers (pyproject.toml) ... \u001b[?25l\u001b[?25hdone\n",
            "  Installing build dependencies ... \u001b[?25l\u001b[?25hdone\n",
            "  Getting requirements to build wheel ... \u001b[?25l\u001b[?25hdone\n",
            "  Preparing metadata (pyproject.toml) ... \u001b[?25l\u001b[?25hdone\n",
            "\u001b[2K     \u001b[90m━━━━━━━━━━━━━━━━━━━━━━━━━━━━━━━━━━━━━━━\u001b[0m \u001b[32m219.1/219.1 kB\u001b[0m \u001b[31m4.2 MB/s\u001b[0m eta \u001b[36m0:00:00\u001b[0m\n",
            "\u001b[?25h  Building wheel for peft (pyproject.toml) ... \u001b[?25l\u001b[?25hdone\n",
            "  Installing build dependencies ... \u001b[?25l\u001b[?25hdone\n",
            "  Getting requirements to build wheel ... \u001b[?25l\u001b[?25hdone\n",
            "  Preparing metadata (pyproject.toml) ... \u001b[?25l\u001b[?25hdone\n",
            "  Building wheel for accelerate (pyproject.toml) ... \u001b[?25l\u001b[?25hdone\n",
            "\u001b[2K     \u001b[90m━━━━━━━━━━━━━━━━━━━━━━━━━━━━━━━━━━━━━━\u001b[0m \u001b[32m474.6/474.6 kB\u001b[0m \u001b[31m33.3 MB/s\u001b[0m eta \u001b[36m0:00:00\u001b[0m\n",
            "\u001b[2K     \u001b[90m━━━━━━━━━━━━━━━━━━━━━━━━━━━━━━━━━━━━━━\u001b[0m \u001b[32m110.5/110.5 kB\u001b[0m \u001b[31m14.2 MB/s\u001b[0m eta \u001b[36m0:00:00\u001b[0m\n",
            "\u001b[2K     \u001b[90m━━━━━━━━━━━━━━━━━━━━━━━━━━━━━━━━━━━━━━\u001b[0m \u001b[32m212.5/212.5 kB\u001b[0m \u001b[31m24.9 MB/s\u001b[0m eta \u001b[36m0:00:00\u001b[0m\n",
            "\u001b[2K     \u001b[90m━━━━━━━━━━━━━━━━━━━━━━━━━━━━━━━━━━━━━━\u001b[0m \u001b[32m134.3/134.3 kB\u001b[0m \u001b[31m18.0 MB/s\u001b[0m eta \u001b[36m0:00:00\u001b[0m\n",
            "\u001b[2K     \u001b[90m━━━━━━━━━━━━━━━━━━━━━━━━━━━━━━━━━━━━━━━━\u001b[0m \u001b[32m1.0/1.0 MB\u001b[0m \u001b[31m69.8 MB/s\u001b[0m eta \u001b[36m0:00:00\u001b[0m\n",
            "\u001b[2K     \u001b[90m━━━━━━━━━━━━━━━━━━━━━━━━━━━━━━━━━━━━━━\u001b[0m \u001b[32m114.5/114.5 kB\u001b[0m \u001b[31m15.4 MB/s\u001b[0m eta \u001b[36m0:00:00\u001b[0m\n",
            "\u001b[2K     \u001b[90m━━━━━━━━━━━━━━━━━━━━━━━━━━━━━━━━━━━━━━\u001b[0m \u001b[32m268.8/268.8 kB\u001b[0m \u001b[31m29.3 MB/s\u001b[0m eta \u001b[36m0:00:00\u001b[0m\n",
            "\u001b[2K     \u001b[90m━━━━━━━━━━━━━━━━━━━━━━━━━━━━━━━━━━━━━━\u001b[0m \u001b[32m149.6/149.6 kB\u001b[0m \u001b[31m20.4 MB/s\u001b[0m eta \u001b[36m0:00:00\u001b[0m\n",
            "\u001b[?25h"
          ]
        }
      ],
      "source": [
        "!pip install -q -U bitsandbytes\n",
        "!pip install -q -U git+https://github.com/huggingface/transformers.git\n",
        "!pip install -q -U git+https://github.com/huggingface/peft.git\n",
        "!pip install -q -U git+https://github.com/huggingface/accelerate.git\n",
        "!pip install -q datasets"
      ]
    },
    {
      "cell_type": "markdown",
      "source": [
        "Loading the model to use: GPT-neo-x-20B!\n",
        "The model itself is around 40GB in half precision"
      ],
      "metadata": {
        "id": "MJ-5idQwzvg-"
      }
    },
    {
      "cell_type": "code",
      "source": [
        "import torch\n",
        "from transformers import AutoTokenizer, AutoModelForCausalLM, BitsAndBytesConfig\n",
        "\n",
        "model_id = \"EleutherAI/gpt-neox-20b\"\n",
        "bnb_config = BitsAndBytesConfig(\n",
        "    load_in_4bit=True,\n",
        "    bnb_4bit_use_double_quant=True,\n",
        "    bnb_4bit_quant_type=\"nf4\",\n",
        "    bnb_4bit_compute_dtype=torch.bfloat16\n",
        ")\n",
        "\n",
        "tokenizer = AutoTokenizer.from_pretrained(model_id)\n",
        "model = AutoModelForCausalLM.from_pretrained(model_id, quantization_config=bnb_config, device_map={\"\":0})"
      ],
      "metadata": {
        "id": "E0Nl5mWL0k2T",
        "colab": {
          "base_uri": "https://localhost:8080/",
          "height": 1000,
          "referenced_widgets": [
            "0abaefd8bd8d4a67bab6f9ed07881603",
            "075001f8adfa4dadb5a9a3b23f4d93fd",
            "2118de746251418dadca76fa0b5db433",
            "6fc6bff53d004da9a646f2e1d53d4537",
            "f78448a2bee44891ab10033eb33e0758",
            "b9637cefea6a4dacb3562648d8530bec",
            "2b9db5c3593545e08b4f55a7cd93eb8a",
            "d96b5896a0694e8b9bdd4c85a65853a1",
            "7403bf8f93bf4ecf9c2b10c287b7f0ba",
            "3cd0b0b4bddc4af7989d0c5d1c257d36",
            "26ac2ab1a90a4ba6b5977d751be3e6c1",
            "de48a5b2040e4dcfaaeb8ac023088ab7",
            "5e62538f827a406b90a653928c0690cd",
            "641c1c5a6c9f49d2bf5829c0de3784eb",
            "3b2b8ecbe1a3410989c42ccc91dcee55",
            "82763e9ed2144653a2075fd2f44a5030",
            "fffa93e3be694a8a8fbd780e76fee813",
            "87cab7ab2ec84bf4ba646b6206f5adfd",
            "d3a03af8ab984b60b7d8b4020bdc66f3",
            "21c88fe3a79242758ae66ca994d21a17",
            "fe7100065cd84ef586519f7ec1c71190",
            "3d493504fafb4ba28a6c5c95fada2b0d",
            "70295404cf004e438843021799dda7e6",
            "0ce6e1d19b8f4c3691ae64553a9d48ad",
            "bc8de576c5e74f72866c8d19442cd7c0",
            "76aa85af10874e168d6fa62ae3729745",
            "9271d79dae804e06b8ebaead44ee599e",
            "7c44328493264c66a80ad0c273b9c651",
            "10817b10e71542e9968c76b62ecbcd7b",
            "40a8a3bcc0834368b75269dd2d2f3c47",
            "d1750f39638e4bbcad9f89d8f8318c8d",
            "371c96921a1845e19196f71f633c8c77",
            "9924b76067494a54af2bd80e0db8f337",
            "f6248b0490d5409f822979d950f57209",
            "12c3d1a7f9064af89811761b4d67255f",
            "fc69c92df0bb446083eb4b5575eeb943",
            "388a045ffaee4da1bd6816833e370f76",
            "3effd0557d014d5786c12e7e7fb7d077",
            "19aa8ab4e7f2436d8f400d4b8c6ad551",
            "ab805fc0215f452790c3d5ceb52bdba0",
            "7765fbbf362543639373be2632ae6eab",
            "79eb2521622d44578ac3af44f8afc39b",
            "b69c105586554d1fb2c71cc63ba5c118",
            "1bec39a0c1394768b614db28e846b074",
            "00fb7eb2d722440eb40004b6e885209a",
            "23d46811c59a4fd29ac1a7e9b5b94c6b",
            "62bd945c8afb45d0908f4f73d0f9397f",
            "62baeae40f094a348980c2119f96403c",
            "f24b8131230d49339e4757c0869f31d8",
            "82dda5c3fbf145d78e68b6c61ae3208f",
            "50ddaeae8ba542f28b372c9f795fbf9c",
            "76166926ba754d40b7df9bc52f1d6ef1",
            "2c5fec86d43448e495976da9d8c94b97",
            "adee5f64f9f4466b9412b5203fd86cd9",
            "ad73f1380d024cd1a78dd8c07547da4d",
            "ab476e900ad04a61a06a9ed53af34277",
            "7a858a4a4c5c44cd83b103f651ac1dd8",
            "95fa9cc66f6d4043ae8552af1ea6eb4b",
            "3f99552d577e44f599e8cb717336dc74",
            "fcd41b5dbc3f4844bb351f521955edc4",
            "8c8c51e1289a4512b1badf14ba75f51e",
            "b4b2a93559d14d60bbe0f2232de619cd",
            "75d2159a766549ee8a1d92c51dba3bc2",
            "4277c6e7a54342dc9da13e62b02cebc6",
            "704fcca60901478e84eb6f27ca512f2e",
            "5f07b5a99a8d4771ae2ffea4b720d5e2",
            "a81692c6dca34ed9a418cee05179c82e",
            "0c2e9702d853422caa526704b93d54a2",
            "4b3b04190f054f40811b941351c8abf4",
            "fc57e832c8494657a5db5ea2f2277938",
            "530ff056ce5945afa5cd71a8871c5aee",
            "ddaa745b84304d1496bcc5d0eebab2a4",
            "308559b32e464309b703dde70c73c2a6",
            "755bed20ee9a41028317a80103f15514",
            "d8f5b91308c940cc8a61cc89bfb86896",
            "4e8d02b68d7e425684d3da4ee571d514",
            "0b87cae0f1be43febd384d04ee10cd94",
            "a2bc403769e743a89047c748172e81ef",
            "5f98053f7bf04cc2aedd8a14b6096994",
            "ce1dff62cca846dea5582a6a0c605b49",
            "ad8055d01c264293a62b36baeb6174a7",
            "c5db024340f94aba8c7eb6017014d5b4",
            "9549f55f5a8348fd8a2d1551347079e9",
            "7efbb1270fcd412990bd07d79a6fc6f4",
            "6c006d3adf42474aaa276f9b8fdb764b",
            "7d7bba423bfe40c5a41162f037f7f750",
            "5f7233f5b9af4d8cb19237fd9d2449bd",
            "a5a9807c2bd846d7a0653dd1acf8570d",
            "0f503452676942cb8ed8bf56623bf06e",
            "10baa1b52eff44989787a9748f0854de",
            "42ad41dd597240bbac2f721388b60b2a",
            "f83f60bd22894fd1a55091d8b96dd2c8",
            "21e384a301e5434586dbae43e094e8df",
            "0bf87eb54430408cbb3568d89d5fbcdb",
            "967b9c8e487946fd8b7158d5208ac198",
            "935f36ab7dd14840a852619c689c89ca",
            "3c13fe2ba83b4391be80d7218cc391b4",
            "c9c3f29b53394908bac2b6da175b2b25",
            "f75530b132e54c8a93c50065359d8421",
            "5b5457d892a04dbbb7d12d39eeb383ec",
            "d0e42965e9c3420fabaa46d76b3b216b",
            "634280fabfc440679c319975b381878f",
            "1f3c8852dd06464dab3cfcdb1d2a4c05",
            "9298065ab4394cbd8caecf6488332c7e",
            "5316f4e1c1eb402c90363b1e27bafb36",
            "917c3dddbe354d61bc98974daf49e3f4",
            "5b3efc3e204845fbaa70b3f7bd800306",
            "a84b3960de8840588d7de0ea07b9c88c",
            "47dac5613a9e46af9b4b5017412f89de",
            "fa1d2a6ab528464d977721d905229a60",
            "5e7c659264b34717b9bac76ee17281c3",
            "500eadd0572c4df5bb487ccc51d24b48",
            "f72d205da82840da8a0e4603b6893989",
            "5a13a82088084ae18a3ac796ef9780cc",
            "37aecb477e9f4790978c96e44827bb1f",
            "2f7130991d9649c7906f097dbacda4d9",
            "cfd07dd09c2b4a0aa539fcafa35bd2c7",
            "2c2b620912574ba9b78aa8ebf303aff1",
            "d1a27c11f6fc4c5980540c65661a4358",
            "f5f9d81884a043c49007363f0f3a818b",
            "ebd52361562d41179276687ded95e995",
            "e889b875d79948f28bbea921898d1f19",
            "75a9bae981b94c418d7e6ae3af9a5584",
            "f994dc5c0f6844cbb5c4c1eea7098f7a",
            "f3990eb8e0954553b214847906ec482d",
            "9b1d76dad0894dc6a59d1b94ce0fc6e0",
            "e34d462a686d460ca53b49d82214794c",
            "34bcf09ecf1d4571a596e34720e1a080",
            "94e0d45c134b4dcd8643415b4ebfa7ab",
            "da19cd82139d4e26b39905d47926ab27",
            "fe3d844e06c542b897f4eee0194557c8",
            "3b6a9590d9bf4b35acc886409b8e0bd1",
            "950151542daf4268b9429a900a30c782",
            "f9ddfd7df40b4da3a0dbefc16423ac23",
            "9b8a414d0ea241459c11f8ffad337799",
            "1ac79f48d1eb460d9002c172db55bdd1",
            "dd0fc2a239fc4e69950d58696fb63559",
            "e3d1a1442e1a494a8ef8b2cde5961674",
            "da9f7f50051646abb59e73109c00887a",
            "bcdd1a007d3b40209e57d3f3b6a456dc",
            "b8c0f8425bc84efdb36f8470e2c3902a",
            "50ecc6fd553047bd8d378dca38b4cae1",
            "0c0e484125b94b6eabb98c4f17ff1f70",
            "410bdf3508074f96bbfef6d64c1e1c36",
            "defbc91b392649bc830b0fd9ae62e884",
            "f12cfd93c99f49d08941dc0404eebba4",
            "d4012a055440452f9bf6328dfb4ba320",
            "34ece0f01bbe469f86224d30ea865777",
            "9370bb6b58e9409bbe20600270206e6d",
            "6a93d96fe2bd49a9ae0436672fe589fa",
            "c93502277aba4b25832b1399e92d5b3e",
            "55561431f3d344cbaf743a42e7116ecc",
            "bc151498e90647b7a613b20016017bd1",
            "b34b3e87c4f44a19b59cfbe43ae9e19d",
            "efe5bac3d63c4d6c8f2c54615c4b5932",
            "7f14c0fdc6454c87870efa0f547f17ee",
            "26ae5f379d4049ff9414253036da5329",
            "e9202651fc9148539fcab41400a0ce22",
            "a53f79be4b444fb48616a27ea40c44ca",
            "057d8e24af694624bc4fd53224bfca55",
            "2e6d5cb8646f4b79a001b6d51a383015",
            "dfb17428e7864173860fe498dd68b1b4",
            "aa0beac13d9249dbb67c80b0a66b9186",
            "a474d85601f049c2bcd43ce398fb3c26",
            "8d5d6ba2955c4f50b9d3672deb8167d0",
            "eed3cf99ded74e98bdd90379224af103",
            "4f77fc9075ea46adb09eb3160f1bfd88",
            "e4d147c6efeb48d8ac4c5c0dac5f71a7",
            "4221512b8f164253b65daf0990b18e14",
            "49ad8b14eba84a4ea6cef53de7028e50",
            "d204a87c33a24daabb0ed79adfc25e5e",
            "1513fe525fc24e0aa34786ac547f1b44",
            "2014502e96f34af9bdefae08f3d8cd4c",
            "3b99f1713a6f45318fbcf6a9dbc510b7",
            "9ae69a7a2e524f0a925b6fa11b7b337f",
            "a47402dc17644d5ea1ad9a06332d047c",
            "d2dc748ad4cb4a7ba7a96881453859aa",
            "a95930d6fccf4c65b6da8ee05f6d32fa",
            "c0c456897fed4b799eca91289b13dae4",
            "c0d2f9c95cfe4c78b53dd3931c5ee006",
            "a45ce9d88bdf41cab9e60c5b54de125a",
            "7abcdf65454b41faa3c27a0b06a040d9",
            "047b8cdedb464a059477b4ca281b960e",
            "ad8248903a78404fab58fcbeb12fb00c",
            "29ce61d188fe437483baa89798e12979",
            "49f2f7a7e5db4754ba7634775d8afd5d",
            "17f4f99351934d66a3802f29e5e550c5",
            "79683eb237e940b5af6e318d1e1ca1e8",
            "c75278bffc3e43a09371eefb69b4d905",
            "2b60e287a9014a33b48ed2f5fd6563f5",
            "0a021b17e726456d9ff190be603ed126",
            "5fde1e48d34d4cdcaf48b05d65461f1a",
            "7a91cbad8f7c4d80af5600438e296072",
            "5dfc69010ff943efac58461a33b5468e",
            "33c00a0234a34e0da23847daf7599b6d",
            "5a9be0241d8b4ff29729cf31f053f438",
            "51004edbaef5489883c45dd925eef041",
            "500b2b0f6dbc43b9a42be2f1ffba94cf",
            "f20acc97a81c43d9b813ad946e098fba",
            "11c3e316dd304fe8b22d44f83cb8e94a",
            "899c55fea3bc468db1a16c6cb7228249",
            "85ba5bb4baeb4813932994242c6f489c",
            "1a84f99fd83a4603b903022634ccb943",
            "81352080705841afa2721323651bf187",
            "b3d6a8d207ec45638d612c28c19e7553",
            "76002a3aa9f64532a591bc26bdcae8ce",
            "716ffe4ada6b4699a7385f98edc0ee3f",
            "1d48ae0101a04228838888d9bcc36e9f",
            "f754c9f210384c80be48625f52ff06e1",
            "c2c92c4a5e454194a2ffe32ef267a513",
            "5e17c46f7fae41a7887e49ea8dbee1b5",
            "7931404c6c54450f9297d2667c7e5fc7",
            "d95acf4b1aa5424490912719a58f3642",
            "342cf5b4f7434178bd099aedf45bf47e",
            "c8b62d04208e4a24b51cfcfcab84bbb3",
            "73bd2f2529a545e9bf595382be9c2050",
            "fb5acb04ed3046a1b2515adb37b8f608",
            "885f59bdcb7a44bf8098a2adddf3413e",
            "7dfcb805f55a4564b2d928d84ff00209",
            "925673506dc842548a0b7b7eb242b0a0",
            "2a27e067482145e1bda50c3efca7a6bd",
            "641a48fc25474728bd4c52d381675f28",
            "c518be39a55a4bcd8a257e64e39ce79b",
            "44d507cbde814078b63091faf9f48358",
            "88c0277452ee4f22af6b623977efaf37",
            "9e1ac731c4714902b162c48d324d8e56",
            "0cea730b2a924f9f8c004e638f592ff9",
            "ffbbd987887a43f6b88102efccf56ec7",
            "13162d04e39b4034a73a64e90e20644a",
            "9596d3e621e4407f96c8387d539ee39e",
            "9284f60dfb574ca09f4bae6d39cf2359",
            "c6f02c27f0174940bef48c13bf9ef747",
            "a5a25afab4dc485e8aa41411cfa33782",
            "324eddd735e84866bab0dec21d66e0b3",
            "aad319d5fb3d46e2a4b4c1b9fc5a1b8a",
            "7aaf5ac47810497399b0530f4af613b7",
            "67a1918f107f4480ab7508078501f9f1",
            "a4151375d97042d4b22a48fce3660515",
            "2684fca9c8e34191b6b46341f3b44054",
            "a9ca826b86b64cd1bd604ab5635df324",
            "f90b6b0a5e9644ec8d839918b5c8072f",
            "25e9b5ef0e5f47d0b80a9db3693d7bd3",
            "bf32387fa96042d3becece247dc587b2",
            "8610e424e067414b8c84e0664d465bc6",
            "29d38c55e7c7440e98b45e37a1f043d5",
            "aadca83e25394e2bb6a3e6e6eb6152f4",
            "a331e95ab8b94c7e9032b2a4197603a8",
            "4ff307714933419b808b69ad1411596e",
            "391f3bfae7674327b0ad77083f7d9780",
            "3baaf48d35904a0a9d4de6d38c769638",
            "5a89ab065acd4cca909c652da2607d40",
            "a587532ae76949bd9c55eceac08102c5",
            "e5c4b0199fab4c1d8fb4d1aa3efe9d45",
            "f15c7f051d2f4bd488cad118d657ddbf",
            "154684d185b141f8a72ad78aa36b8c6a",
            "c64b1759ccd04a27976662d2ac740d0d",
            "bcf45ac12ff244c6bb1e0df31c486a02",
            "9dc04f70c6c54c54aeba34beda47f190",
            "0c701219ee3f4af0985cdfda2f24c472",
            "82468575ca3849819231f3a34dcb90e5",
            "730c1a7b4d4b4c66ae7a11304715bc14",
            "fe59c295843c4a19a49c3ac9d5d37602",
            "235fc51d1185485598b638c2f193566d",
            "21269268a2c84b7a8fa51973dcad9391",
            "6ddb170fbc9c4460bc49d119bb7c78c5",
            "9e0e4e8caa994f438ff1c69f19c33582",
            "633742d25b9343bf9c645e8d9804e8fe",
            "7b1f882df9ec4a618179b16794d32cbb",
            "4096e4aafdf24a30ae1d0cece0a96c21",
            "7d5d536be74d47b0844885b6a2336dc1",
            "f3b516120f1640658d13ca58b80ede52",
            "7c9f920d4b5243deaa62427c1943b207",
            "5321c12809fe4024a6505d004a663e38",
            "3d5dc29d6f8c4ffb8d4cd1fc3b5f093f",
            "2a4fe072d5fd44d68b933c2e7072afb7",
            "ef2cc29453e64d3d8b58071682247cdc",
            "004cec25ae7d4c689bb9dfbb9b20158a",
            "fb8f24e44e3d498688a5625f0c6e5ddb",
            "be6cecd685a8449184e78eb6e2757ae6",
            "ba9ad9a3606e46af902ff76478877155",
            "28d3c343eefb4d7f9df6286d5ed8a107",
            "62618d2eeef34512b5c39666ce857e4e",
            "20eea5d800eb49548ce04ca25346296b",
            "3569b8316e8e41378dc40e65ed904fd2",
            "9ad49b98be314168afb92677a839f8b4",
            "e70da51ed519404e8d57af42776e2204",
            "17ee1c9adb20409797bea941d4ff0d9e",
            "cac0197fbce748fa9f87d8bd8221bace",
            "472772c6176f428d949ff2fc6bd6d875",
            "e4393f1c594843dc9bfba79cac216145",
            "a1911b9cc8ea4296baf8f340e55b0810",
            "a85bca1de19d4fa889f25a3e36ebfb27",
            "c6984981088a4066b12226c74aad0e6b",
            "3b97ca3ecb6e4c56a591033ed9a9c25a",
            "a40caa41b9494cfda52e9ed21a7a7d1d",
            "5f41ad9e21364872aeb8c95336b6bb7c",
            "6f52cf34df7c4b92b82d143f9594bd34",
            "44a002173a254f70b80378771fd87752",
            "f88c442f85a8400f932fade09a5315a0",
            "a167677f193446bcbeed4d01ee5ada47",
            "d60babd58b3847ae8adf0cc55b8ea6c9",
            "365e8f2804be4911b41e5c963c0d0e11",
            "d0c6ebdb846546f9bead4a5844e5419f",
            "70c7daf2e919427094747a0788495757",
            "88342ef8883d4da8a387db3d34ea53e2",
            "02379dc8c8ee4033a610bf184fd16be2",
            "4c0b1644359249f995fa846825f865ee",
            "c1b61ca9d77945f99d286ee5724c3b4e",
            "544ff918ac5a408eb47c6194601a2717",
            "a9bf08031df04a14b95be839955b97f4",
            "6cc869a300b148229c93da67340a566c",
            "8d74455d7d4a4a66992628db49d7b0f4",
            "2af5a153999e4253948aecaf9eddb7f8",
            "1794a4f9f8b34537b63558b7f413fd48",
            "28e843ceed7c4ebe838de69ded71259d",
            "8618dc3fd4d84729b65e1f18beb86dac",
            "e999af65dbe44de8a77fcf028e6d726c",
            "20e065a1cbc446119c389d4ff32ab4d7",
            "853716ae56db46ba848269f736eadac0",
            "c69b357ed42f46b191ea6aa30a5946c4",
            "36001f8d164e437f973919de43446f6a",
            "c394639b36ef44f8a55c2b3cabed2169",
            "c2566215575a4ee4b34eaa7510900c48",
            "1e687f18a6154f4da2c85e4aa16dadf3",
            "01f658e469484e15bdadcaca01d25c0c",
            "2ca9b42a130c4ddfa5d143cb3a555412",
            "b85dfcc307ae4d5b835cf94d0dd11703",
            "31826475a75842deaa5db63f33fac676",
            "12bec4e4964e4df2b1634cd9ea6157f4",
            "5d4a991fe9404423943f2631ab72728c",
            "6b9b1e4ab6f94bc594b6aa6846dff6b2",
            "2faa4c65bd1a4fe5a67c8906017f66ec",
            "4717be1e04f24f0e927ecfa022f16e46",
            "0e7b6e9b595b447995157d6d1aeeb791",
            "45ee12e69f394c8b8752a5ffecba75ca",
            "e52b0e84dad54163bc831bcde26ca4ee",
            "152e78b0bd104351be5d7946a18430f1",
            "3e222e33479742ffb1e307066a2cd16e",
            "86fd80dddf26488391e74801a3a59a92",
            "54d27b16cdd5493289a40814b03e6341",
            "aa14e2b07d7e4c588b9c7a875a3d82a8",
            "290f9f02020a4e4e89eefc579e9d0f14",
            "a54c87d13b8c4718b9db32aad1e12ad7",
            "d939820e13f445d9adb81a41ba7556c7",
            "8ef1918cc00c4f14b8ca2f69c36ecfbf",
            "e1be2a051c734492abcae425183a7b6c",
            "ab45d1931721476283ecd55293eb5d63",
            "0ad21703448f4c3c80304ad6bf68b019",
            "e17ede4e6ca24dec8874d5cc9fdbce5c",
            "2e516e1b6e084954843655c7347ed408",
            "815ae0ef83684be49a9acefa30d4e993",
            "a6bfbce195234766b5e46cd48903d3ae",
            "f7ae915ebfba4507a69ffbce4cea643a",
            "9224250aaa8d46368df9798297db01cb",
            "87fc28df49e74c0c8f0e45d3991acbf0",
            "abe22c7d5d0348e4bc2b1417af1b7c6d",
            "84011f2864ad4768880fe7158703a9e2",
            "8472256348f3464eaab6c678b3fc04fb",
            "5ce2a1633ca84e74a44e1f3b03bb0f24",
            "3c3e4340bcdc468786e3f6e6f9acf0ab",
            "4256a23d0855437a823961dfaab9a86b",
            "f9abd5294d1e4ebb87b4f9a09d70920c",
            "a0226030cf5743088a6dab722cfee58d",
            "647450c4fa7843ca98d0157fe6b56617",
            "2641a0c8e7de4001a6c9de4af3ec9dcc",
            "934ba20079fe487d920ec6ada50a2533",
            "dfca0b789f9040559bf2e1223256678d",
            "c933472aaa614fe5a76a0c013423ff15",
            "6953fcba29dc474d88f9f708137a84f1",
            "6742904f19024213970721d4ca074d92",
            "d5256b962dd4468695e509cab6406cd2",
            "837889adc57d4c35a190596219a7bb2a",
            "cdb948710a754fbf8806ecd96055bce9",
            "5b7866d813814889a746e37a791580aa",
            "789358850a7f40499f3f47efd82123ca",
            "56f0fa3ba9764dd2ba7f8fa6fcd642f2",
            "0e1e117a471b49cb9ff26e093675c3a4",
            "68fc879f150f470082ecd83f8d99e7be",
            "b2d79b743dbc4e2997921113d4f20c9f",
            "8dd2c3539c444f97aadbcf0e1d3532e1",
            "6a18abbc81294ca0981fbde45ea9d39b",
            "232661a48c254898a6b1be0024e73999",
            "0a992a82813143b59c0ea2044a67533e",
            "165a2e001695470e8518d917678dd54d",
            "03377e11ba824b738c04dd109ad04535",
            "780fe0041e124d0c92e9d099e0aea0ec",
            "0b1edab23c4b4c6c94ac2076732facd9",
            "6d3d24b51fc54ff2a05f1d46ee8c8f96",
            "db4bdcdc0cf6482fb3963fe2e051e418",
            "ebfaf6f739aa4fbb882e66314d536b3c",
            "2e73241665cf4edbbe587a3c0b84a77a",
            "ab2c290010e54662bfaa1b71328c84be",
            "67dfd72be7a940919d9266beba70ad4d",
            "6fcaa7fd4edc4de2b7de2e8e7894a26f",
            "f67e41f8d5724bc787bbf25bbb118cbb",
            "bd749af958b34400b5ff02edb992e8d1",
            "f2f0e1ea1d5a4960afb533443e76f262",
            "e68ab57417dd45269d7d59c8fc2dc82f",
            "51e38dc390c84bfebe06854a27581be8",
            "5a868a36977b4c9e9a8e03ea72c32483",
            "3cd14ee933a34ba7897f8fde8da62c21",
            "a30d7a1f99f94cdfb18a994d89080a12",
            "243224c7f6be4d1683b82f5310cb6250",
            "2630e99c11054882a01ab3681b6114bd",
            "ef56e6d20a6b4f5eaf54d598c8b545e0",
            "53d679d47ea24189b1030895cd0321eb",
            "d534d8c415374282aa6d33b3e1e9a791",
            "8804ee09effe44cd93a37b65d252e9d7",
            "5fa14eb67bf447f89e0cf7b58c30409d",
            "7e41187cccf443cb8f53f0068bf71e4b",
            "5fc84658894448d28157c4c656df48d9",
            "b253d5212e1e4e9f983ce1f144950283",
            "116e174b45aa4025a4f04b5054ed1f7a",
            "51184073dd6b43c9b53dbde0fe784930",
            "5927dfb7a8e448508943672c4097cc2e",
            "95d5324cf6584ae79e47fd4ba5158370",
            "dd8d7d4c7b244120a1c04b50800b071a",
            "2eb3c2932dba4d36bd0f43687c9dcd9b",
            "8d711780c52f476589e68ce166dc4ab4",
            "6eb2a90ff87841a59165fd785787122a",
            "51b910bf987c4ca6982fb2b044d1e40c",
            "648f0a9b200044d9a3c8bc76ab0b559b",
            "6b51804ffbd8478a948f08eb3896941f",
            "7d2d784462b64514beb68b0e2a80df97",
            "056a0cf6dcd94f8a8e8398827f8161ca",
            "a8a8cb47a4f441ceb23ae76d4d33a71b",
            "920719c56b444965b062997b6bd3ec23",
            "71f84e752a254480b4228d180a369413",
            "8f773ad3019a4094af597cd15eb0b734",
            "544a2ba68a404688bf8417159f1e1c9a",
            "0406f5b902444002a1a66472b41af46b",
            "16dc74ca3e654da0985112a4db7aecc0",
            "b79dfe1468da4742be9eb1cb78afdf8b",
            "54299548708b490e83fef493a69d4aee",
            "fdf6ab4f976246ecbb4fa5ed6b95fc72",
            "8a0c74d5695a46bdafb23085c34da9ce",
            "b9db3b01162c40e8b9c55922a1dcd175",
            "2ab9552bd5df4b92b5d553fd41bcef86",
            "3d991b984a7b469ebbe816b81ed64896",
            "0777ae5448a54f60ba0b59edf2464852",
            "146c0f1356924fe0a2c44bae469734e4",
            "0873e0adc41d456ead26aa9e900b8d2c",
            "7353e644226c4dc58fbe0b015784130a",
            "5e49b1aa08844117aee6e003971ff560",
            "eed32080e6f645388ca7c3f3aaeae224",
            "dca09dee11bf42bda2c7385bed54283b",
            "d0d242a653904cbcaed130db7b1bea10",
            "06a36c4b213546e086f8873ba81d4d42",
            "70439693bd0b472994c727a8221891f8",
            "ad7cdf96991b4654a26543b1e85b8a03",
            "0bd3b83ecb7e43d39ee7ea46cc0ee17b",
            "a6fa105c0cb249b78a332c05c59b7159",
            "8e79999290b24cd7917df978cac1013a",
            "6b6044674c344117b8032332b5cf8643",
            "5cc68bd4c3e04bc88f56c619c890f8df",
            "8d11c112fb0b42c28d075f4e399ac42c",
            "2c571ebdd11840baa32a4c25b73543a5",
            "508e092622824f9ba315154fd801fe69",
            "cea676e6648e44c881117c612cc86824",
            "fd977e7f980d4592b225f5672c43874d",
            "2f9318de94db4f9c9aee3842addd2503",
            "fef1be48b18c49c8b70354a5889ddb87",
            "a7fc1c9f3793457492ef0b144b1bd2d4",
            "3deb304f57144745ab4c02592fe04141",
            "c6374173e6fd46cc84c1d2f00c98e855",
            "0de283a57f4649c2aa05412f4844df3d",
            "b9f6c40ab32d4dceab9932e0df42c8a5",
            "7b46346421dd4f41beed3ca76efddf7f",
            "e8bce366c27649daab132ff0f6a60763",
            "d7cf2eccb7bb45dc9e04b36f84b808ab",
            "c27ace7512934f64aafaab476c02308c",
            "58939dfd29a34c30b6f7afa131c7df5b",
            "a140ac2fef48463e964e6dac40904382",
            "154d094d1a75424684b17a87fa2552ce",
            "942109b0c26041cea913de3a72147e47",
            "62c9b165d9964457a49404f6155e4e69",
            "dce1ec06929e4a6695f2a57b5d4e64be",
            "f55f3b075af644f392274a064cc0956c",
            "710aa38a063444c1b04c67643f5b0b76",
            "bc042a7102734853a24b475fa936f5a7",
            "0a262f53065a4dd2a5bc44b4faed5085",
            "02f0e7c8e90442fe98f3675d9c9b6be9",
            "fe815e80584f40c1abe473563050406c",
            "7e6f4ca9dcb54dfa93f29350166bde1c",
            "68a04b4b5340477a9d53da369d4be56a",
            "1c3f68347ee4404e996617789c1d041f",
            "57a611636bc849d3a0086a09517b7810",
            "65255efec163404c93c1fc9092b82b33",
            "addc952cc44544bd8438c877ae6f59f1",
            "be88a068d6c340a1af599152bd78c41b",
            "4ebf712c6de44b6fa74ed3780c745c82",
            "6b7562b8c49341c0b73e909ad06223f3",
            "9f741d54cb7747829cee05801becc685",
            "f2d0edfb16634e34838cbbe32110c304",
            "ed071cf8252a4773bbcc0a82da28063a",
            "217ef8035de94d448c9654aa0adb4ce5",
            "01aa39bc76fb4fadbcbf222cfe257e31",
            "e9f6d5bcdc1349fe8adedf200c006b9b",
            "bb78aaa03b224d088017b54a9bb8364f",
            "10e46a7cd36a4fe39bf8aaa2a1195fd6",
            "62efac9aa04c4576b66987c463a90f55",
            "3456b791365c4584b4dba8c6950938d1",
            "f6699a370a374304a71fb80724485b50",
            "e589ac75f2ee4dc181a75f1efb25e2d7",
            "dddce45c3e7b48dc92397dd1903b1cad",
            "87972e55d15b476f8961cd4a2542c905",
            "a1ab79eb5daf4d0e97778098d8e7a284",
            "2eede38708654990a16e58235d30f1bd",
            "b157d9ca629649078d54821d3555fa56",
            "c872f9dcb4ad471e8f632330fd706a0d",
            "d3041131c8ec4f9f868c21bd0032eda6",
            "f0d36b7227ae4ea9b63fa3a0208e4413",
            "acdd738f48694cd68c41d2cb96177002",
            "89726d42a70148b8ac7ea87335b10ad5",
            "c5e32605a57a4d49ad9b20cfc4f1adbe",
            "8aaedfeca6d04d52911fa556dc9caf26",
            "66e05d5688944a11941a3a6d09cfac33",
            "cd33e4c1538e4b8a8b1f74da59360b7b",
            "561cc25bca7942bdbc1783f9472baef6",
            "8be843337896424a881c186c16f5acea",
            "21fe32bd62b74e8890ff4cd482090fe8",
            "3cc0ff43129f4c00925875e83c6aefcb",
            "19898ce25b9f4be39e6b253f0579848e",
            "e8a3622308f9460da9f3f3d56b26c722",
            "1253d423955a463888ed6dca4515814c",
            "ed24b540c61049f09a6e7300c2ba8022",
            "a235bd335adc470cae1987b9b6a2ea3e",
            "297a3db740d641a1a9c810a2b143f441",
            "4731d26f4d2d42088ac11b27830f65ce",
            "664dd1d9334246d88c44a9af04f34cb9",
            "423dc8121ff44de1acef87ad43534d01",
            "b83d0f5da00542b6946191921ef456c6",
            "07678a2c8f874a7793b9077b3dd59937",
            "af52e0a3e3da43d5b438ebec936fe1f2",
            "7a6bc12693f445ce833fc09fec908a85",
            "d789462547e24dc4b42f79440ccf69da",
            "5a219040669a4d6ca6ebca7bd2ca5333",
            "0dccfad39899443b9f1f3ebaf4aa2235",
            "876226b6effd444cabcb70a976540d9c",
            "834234f4e2da4718b19ea95302862c9f",
            "c0d42f6f76d84a53a1e3860b7fe25c94",
            "843e88318f774b08aed7a5e22e16645a",
            "8781230ade7d4801a5dea3e3e0c86c78",
            "ea34a9590f45481981c040af63a3049c",
            "d4639bc45d5241f18aee6c6eec4e5332",
            "d2d2230d73184ed08f33c6de69d42a91",
            "28c8444181e84c76a797c2084f5ee1a2",
            "efcfe71995904be9ac3613b1d90ab7bb",
            "8bf56a1cf1d241dca0e938e36e3a6bb8",
            "d5e00bce97c849b7a8a7b2d39c843ad3",
            "85267bca8a77442fbed7702deca0df58",
            "49281707fadf4288b77bbaf272fd0e56",
            "81f492f15db746a8845645306e75b151",
            "34f21992c1cd4c67ba7fc1c87bdcec1e",
            "1fd98df27eac4d94aa04df4fc90b900b",
            "67be422f45cb4a7988ef8a843cd74d32",
            "6ae50bbd7d744bd4bdcfbd815506ff99",
            "3f20a17ca648447ab5b90bf31553ebec",
            "490f54e116a641f98855c9273309d5b7",
            "65efa62fc0ac4cd7a909bb9dec40cdd5",
            "ad91e8acc6814efd9aa1f47f00d6131e",
            "f3ed071450da4ac08ce22c157a8e4b37",
            "559fe3172b2446698050c51af6b3f4d1",
            "32a37406fab64e028d0037c4974b7da1",
            "bfd5ce95a545434ab58f97008899c2a8",
            "c414bee2336c4ee88888165024c687df",
            "0fa3fc78972c41e5b6b0d4952c857f35",
            "7547992ee0554352afa287a2e5058280",
            "f1eb991af4d64247888cad45be9389fa",
            "c8c8331d4d7d43be9b73116adac1a4e3",
            "79f74f4603ae49d7a43b60d6ccd1e131",
            "ad2805753bb34f27a13f85afb2de7278",
            "ba747c6af83142ddafdd31d48faba0fe",
            "04a959f7823e457cbf09533e5108306f",
            "43e44e1dd6df4bc3977c69bb0b820a71",
            "25ddf7c794d54436a2f11daf421ea1bf",
            "63a285c5c56c4a81957a62a4845b0f0a",
            "6051c5450da04fc39b59daaef0aebb6d",
            "0bff0546d6094666b1a64a91af98018c",
            "da4d5d3eb4f24c169ecc6004e03efdc3",
            "6d485fcce0f94a5bb794dd86395d76b3",
            "ff78320819da48fc9dae0842edd03907",
            "58076f04f6174571a26457e2efdaff7a",
            "30a67537526b4f349af4f0f3e83bcf42",
            "0cc28f103b054066b6bc638c5b26b7b2",
            "64b4b51d57854d7cbfa4e83c16205bdb",
            "2779a49006174bea9ed5e389a97eb542",
            "5f6c653e603247aaa3610f0e4dbbd8f6",
            "9cc83ebb9eaf4a1a904e97ce4d84ff6d",
            "13a24356bec84e57996310af157fe845",
            "4ba7cafa09244957bc1adb48012c3c11",
            "fb0f9eb4f38243459cac02b653bdc07d",
            "2efbe7d90b02469aa181fbf9c0a05c64",
            "3f0c772aca51497fa53b269c5b6b1111",
            "9196d4b349e6476499c120b11f1607fa",
            "1254dba65fd648668f68e025ac8dde71",
            "c1f9eb081daf4d59ad78debfc1f4e535",
            "e8e00b479a944befa9451a158b541af8",
            "be4bf581d78e441d9dc9531fc578d412",
            "966522ed475c4e4ca200405141f56c59",
            "7640574156b2400f83b21518859504aa",
            "4e08fafe27ac4074af73239398f5bc6e",
            "a4983ba3a8404196bf78d5c2162ad210",
            "673e11bb3a8d47d19d1f0f43debd260d",
            "ef4fe4b214934ad7ba77c45a290490f9"
          ]
        },
        "outputId": "df5ada5f-ff01-4da3-83de-ed13c55405dd"
      },
      "execution_count": null,
      "outputs": [
        {
          "output_type": "display_data",
          "data": {
            "text/plain": [
              "Downloading (…)okenizer_config.json:   0%|          | 0.00/156 [00:00<?, ?B/s]"
            ],
            "application/vnd.jupyter.widget-view+json": {
              "version_major": 2,
              "version_minor": 0,
              "model_id": "0abaefd8bd8d4a67bab6f9ed07881603"
            }
          },
          "metadata": {}
        },
        {
          "output_type": "display_data",
          "data": {
            "text/plain": [
              "Downloading (…)olve/main/vocab.json:   0%|          | 0.00/1.08M [00:00<?, ?B/s]"
            ],
            "application/vnd.jupyter.widget-view+json": {
              "version_major": 2,
              "version_minor": 0,
              "model_id": "de48a5b2040e4dcfaaeb8ac023088ab7"
            }
          },
          "metadata": {}
        },
        {
          "output_type": "display_data",
          "data": {
            "text/plain": [
              "Downloading (…)olve/main/merges.txt:   0%|          | 0.00/457k [00:00<?, ?B/s]"
            ],
            "application/vnd.jupyter.widget-view+json": {
              "version_major": 2,
              "version_minor": 0,
              "model_id": "70295404cf004e438843021799dda7e6"
            }
          },
          "metadata": {}
        },
        {
          "output_type": "display_data",
          "data": {
            "text/plain": [
              "Downloading (…)/main/tokenizer.json:   0%|          | 0.00/2.11M [00:00<?, ?B/s]"
            ],
            "application/vnd.jupyter.widget-view+json": {
              "version_major": 2,
              "version_minor": 0,
              "model_id": "f6248b0490d5409f822979d950f57209"
            }
          },
          "metadata": {}
        },
        {
          "output_type": "display_data",
          "data": {
            "text/plain": [
              "Downloading (…)cial_tokens_map.json:   0%|          | 0.00/90.0 [00:00<?, ?B/s]"
            ],
            "application/vnd.jupyter.widget-view+json": {
              "version_major": 2,
              "version_minor": 0,
              "model_id": "00fb7eb2d722440eb40004b6e885209a"
            }
          },
          "metadata": {}
        },
        {
          "output_type": "display_data",
          "data": {
            "text/plain": [
              "Downloading (…)lve/main/config.json:   0%|          | 0.00/613 [00:00<?, ?B/s]"
            ],
            "application/vnd.jupyter.widget-view+json": {
              "version_major": 2,
              "version_minor": 0,
              "model_id": "ab476e900ad04a61a06a9ed53af34277"
            }
          },
          "metadata": {}
        },
        {
          "output_type": "display_data",
          "data": {
            "text/plain": [
              "Downloading (…)fetensors.index.json:   0%|          | 0.00/60.4k [00:00<?, ?B/s]"
            ],
            "application/vnd.jupyter.widget-view+json": {
              "version_major": 2,
              "version_minor": 0,
              "model_id": "a81692c6dca34ed9a418cee05179c82e"
            }
          },
          "metadata": {}
        },
        {
          "output_type": "display_data",
          "data": {
            "text/plain": [
              "Downloading shards:   0%|          | 0/46 [00:00<?, ?it/s]"
            ],
            "application/vnd.jupyter.widget-view+json": {
              "version_major": 2,
              "version_minor": 0,
              "model_id": "a2bc403769e743a89047c748172e81ef"
            }
          },
          "metadata": {}
        },
        {
          "output_type": "display_data",
          "data": {
            "text/plain": [
              "Downloading (…)of-00046.safetensors:   0%|          | 0.00/926M [00:00<?, ?B/s]"
            ],
            "application/vnd.jupyter.widget-view+json": {
              "version_major": 2,
              "version_minor": 0,
              "model_id": "0f503452676942cb8ed8bf56623bf06e"
            }
          },
          "metadata": {}
        },
        {
          "output_type": "display_data",
          "data": {
            "text/plain": [
              "Downloading (…)of-00046.safetensors:   0%|          | 0.00/910M [00:00<?, ?B/s]"
            ],
            "application/vnd.jupyter.widget-view+json": {
              "version_major": 2,
              "version_minor": 0,
              "model_id": "5b5457d892a04dbbb7d12d39eeb383ec"
            }
          },
          "metadata": {}
        },
        {
          "output_type": "display_data",
          "data": {
            "text/plain": [
              "Downloading (…)of-00046.safetensors:   0%|          | 0.00/910M [00:00<?, ?B/s]"
            ],
            "application/vnd.jupyter.widget-view+json": {
              "version_major": 2,
              "version_minor": 0,
              "model_id": "5e7c659264b34717b9bac76ee17281c3"
            }
          },
          "metadata": {}
        },
        {
          "output_type": "display_data",
          "data": {
            "text/plain": [
              "Downloading (…)of-00046.safetensors:   0%|          | 0.00/910M [00:00<?, ?B/s]"
            ],
            "application/vnd.jupyter.widget-view+json": {
              "version_major": 2,
              "version_minor": 0,
              "model_id": "e889b875d79948f28bbea921898d1f19"
            }
          },
          "metadata": {}
        },
        {
          "output_type": "display_data",
          "data": {
            "text/plain": [
              "Downloading (…)of-00046.safetensors:   0%|          | 0.00/910M [00:00<?, ?B/s]"
            ],
            "application/vnd.jupyter.widget-view+json": {
              "version_major": 2,
              "version_minor": 0,
              "model_id": "950151542daf4268b9429a900a30c782"
            }
          },
          "metadata": {}
        },
        {
          "output_type": "display_data",
          "data": {
            "text/plain": [
              "Downloading (…)of-00046.safetensors:   0%|          | 0.00/910M [00:00<?, ?B/s]"
            ],
            "application/vnd.jupyter.widget-view+json": {
              "version_major": 2,
              "version_minor": 0,
              "model_id": "410bdf3508074f96bbfef6d64c1e1c36"
            }
          },
          "metadata": {}
        },
        {
          "output_type": "display_data",
          "data": {
            "text/plain": [
              "Downloading (…)of-00046.safetensors:   0%|          | 0.00/910M [00:00<?, ?B/s]"
            ],
            "application/vnd.jupyter.widget-view+json": {
              "version_major": 2,
              "version_minor": 0,
              "model_id": "efe5bac3d63c4d6c8f2c54615c4b5932"
            }
          },
          "metadata": {}
        },
        {
          "output_type": "display_data",
          "data": {
            "text/plain": [
              "Downloading (…)of-00046.safetensors:   0%|          | 0.00/910M [00:00<?, ?B/s]"
            ],
            "application/vnd.jupyter.widget-view+json": {
              "version_major": 2,
              "version_minor": 0,
              "model_id": "eed3cf99ded74e98bdd90379224af103"
            }
          },
          "metadata": {}
        },
        {
          "output_type": "display_data",
          "data": {
            "text/plain": [
              "Downloading (…)of-00046.safetensors:   0%|          | 0.00/910M [00:00<?, ?B/s]"
            ],
            "application/vnd.jupyter.widget-view+json": {
              "version_major": 2,
              "version_minor": 0,
              "model_id": "d2dc748ad4cb4a7ba7a96881453859aa"
            }
          },
          "metadata": {}
        },
        {
          "output_type": "display_data",
          "data": {
            "text/plain": [
              "Downloading (…)of-00046.safetensors:   0%|          | 0.00/910M [00:00<?, ?B/s]"
            ],
            "application/vnd.jupyter.widget-view+json": {
              "version_major": 2,
              "version_minor": 0,
              "model_id": "79683eb237e940b5af6e318d1e1ca1e8"
            }
          },
          "metadata": {}
        },
        {
          "output_type": "display_data",
          "data": {
            "text/plain": [
              "Downloading (…)of-00046.safetensors:   0%|          | 0.00/910M [00:00<?, ?B/s]"
            ],
            "application/vnd.jupyter.widget-view+json": {
              "version_major": 2,
              "version_minor": 0,
              "model_id": "f20acc97a81c43d9b813ad946e098fba"
            }
          },
          "metadata": {}
        },
        {
          "output_type": "display_data",
          "data": {
            "text/plain": [
              "Downloading (…)of-00046.safetensors:   0%|          | 0.00/910M [00:00<?, ?B/s]"
            ],
            "application/vnd.jupyter.widget-view+json": {
              "version_major": 2,
              "version_minor": 0,
              "model_id": "c2c92c4a5e454194a2ffe32ef267a513"
            }
          },
          "metadata": {}
        },
        {
          "output_type": "display_data",
          "data": {
            "text/plain": [
              "Downloading (…)of-00046.safetensors:   0%|          | 0.00/910M [00:00<?, ?B/s]"
            ],
            "application/vnd.jupyter.widget-view+json": {
              "version_major": 2,
              "version_minor": 0,
              "model_id": "2a27e067482145e1bda50c3efca7a6bd"
            }
          },
          "metadata": {}
        },
        {
          "output_type": "display_data",
          "data": {
            "text/plain": [
              "Downloading (…)of-00046.safetensors:   0%|          | 0.00/910M [00:00<?, ?B/s]"
            ],
            "application/vnd.jupyter.widget-view+json": {
              "version_major": 2,
              "version_minor": 0,
              "model_id": "c6f02c27f0174940bef48c13bf9ef747"
            }
          },
          "metadata": {}
        },
        {
          "output_type": "display_data",
          "data": {
            "text/plain": [
              "Downloading (…)of-00046.safetensors:   0%|          | 0.00/910M [00:00<?, ?B/s]"
            ],
            "application/vnd.jupyter.widget-view+json": {
              "version_major": 2,
              "version_minor": 0,
              "model_id": "bf32387fa96042d3becece247dc587b2"
            }
          },
          "metadata": {}
        },
        {
          "output_type": "display_data",
          "data": {
            "text/plain": [
              "Downloading (…)of-00046.safetensors:   0%|          | 0.00/910M [00:00<?, ?B/s]"
            ],
            "application/vnd.jupyter.widget-view+json": {
              "version_major": 2,
              "version_minor": 0,
              "model_id": "f15c7f051d2f4bd488cad118d657ddbf"
            }
          },
          "metadata": {}
        },
        {
          "output_type": "display_data",
          "data": {
            "text/plain": [
              "Downloading (…)of-00046.safetensors:   0%|          | 0.00/910M [00:00<?, ?B/s]"
            ],
            "application/vnd.jupyter.widget-view+json": {
              "version_major": 2,
              "version_minor": 0,
              "model_id": "6ddb170fbc9c4460bc49d119bb7c78c5"
            }
          },
          "metadata": {}
        },
        {
          "output_type": "display_data",
          "data": {
            "text/plain": [
              "Downloading (…)of-00046.safetensors:   0%|          | 0.00/910M [00:00<?, ?B/s]"
            ],
            "application/vnd.jupyter.widget-view+json": {
              "version_major": 2,
              "version_minor": 0,
              "model_id": "ef2cc29453e64d3d8b58071682247cdc"
            }
          },
          "metadata": {}
        },
        {
          "output_type": "display_data",
          "data": {
            "text/plain": [
              "Downloading (…)of-00046.safetensors:   0%|          | 0.00/910M [00:00<?, ?B/s]"
            ],
            "application/vnd.jupyter.widget-view+json": {
              "version_major": 2,
              "version_minor": 0,
              "model_id": "17ee1c9adb20409797bea941d4ff0d9e"
            }
          },
          "metadata": {}
        },
        {
          "output_type": "display_data",
          "data": {
            "text/plain": [
              "Downloading (…)of-00046.safetensors:   0%|          | 0.00/910M [00:00<?, ?B/s]"
            ],
            "application/vnd.jupyter.widget-view+json": {
              "version_major": 2,
              "version_minor": 0,
              "model_id": "44a002173a254f70b80378771fd87752"
            }
          },
          "metadata": {}
        },
        {
          "output_type": "display_data",
          "data": {
            "text/plain": [
              "Downloading (…)of-00046.safetensors:   0%|          | 0.00/910M [00:00<?, ?B/s]"
            ],
            "application/vnd.jupyter.widget-view+json": {
              "version_major": 2,
              "version_minor": 0,
              "model_id": "544ff918ac5a408eb47c6194601a2717"
            }
          },
          "metadata": {}
        },
        {
          "output_type": "display_data",
          "data": {
            "text/plain": [
              "Downloading (…)of-00046.safetensors:   0%|          | 0.00/910M [00:00<?, ?B/s]"
            ],
            "application/vnd.jupyter.widget-view+json": {
              "version_major": 2,
              "version_minor": 0,
              "model_id": "c69b357ed42f46b191ea6aa30a5946c4"
            }
          },
          "metadata": {}
        },
        {
          "output_type": "display_data",
          "data": {
            "text/plain": [
              "Downloading (…)of-00046.safetensors:   0%|          | 0.00/910M [00:00<?, ?B/s]"
            ],
            "application/vnd.jupyter.widget-view+json": {
              "version_major": 2,
              "version_minor": 0,
              "model_id": "6b9b1e4ab6f94bc594b6aa6846dff6b2"
            }
          },
          "metadata": {}
        },
        {
          "output_type": "display_data",
          "data": {
            "text/plain": [
              "Downloading (…)of-00046.safetensors:   0%|          | 0.00/910M [00:00<?, ?B/s]"
            ],
            "application/vnd.jupyter.widget-view+json": {
              "version_major": 2,
              "version_minor": 0,
              "model_id": "290f9f02020a4e4e89eefc579e9d0f14"
            }
          },
          "metadata": {}
        },
        {
          "output_type": "display_data",
          "data": {
            "text/plain": [
              "Downloading (…)of-00046.safetensors:   0%|          | 0.00/910M [00:00<?, ?B/s]"
            ],
            "application/vnd.jupyter.widget-view+json": {
              "version_major": 2,
              "version_minor": 0,
              "model_id": "f7ae915ebfba4507a69ffbce4cea643a"
            }
          },
          "metadata": {}
        },
        {
          "output_type": "display_data",
          "data": {
            "text/plain": [
              "Downloading (…)of-00046.safetensors:   0%|          | 0.00/910M [00:00<?, ?B/s]"
            ],
            "application/vnd.jupyter.widget-view+json": {
              "version_major": 2,
              "version_minor": 0,
              "model_id": "647450c4fa7843ca98d0157fe6b56617"
            }
          },
          "metadata": {}
        },
        {
          "output_type": "display_data",
          "data": {
            "text/plain": [
              "Downloading (…)of-00046.safetensors:   0%|          | 0.00/910M [00:00<?, ?B/s]"
            ],
            "application/vnd.jupyter.widget-view+json": {
              "version_major": 2,
              "version_minor": 0,
              "model_id": "789358850a7f40499f3f47efd82123ca"
            }
          },
          "metadata": {}
        },
        {
          "output_type": "display_data",
          "data": {
            "text/plain": [
              "Downloading (…)of-00046.safetensors:   0%|          | 0.00/910M [00:00<?, ?B/s]"
            ],
            "application/vnd.jupyter.widget-view+json": {
              "version_major": 2,
              "version_minor": 0,
              "model_id": "780fe0041e124d0c92e9d099e0aea0ec"
            }
          },
          "metadata": {}
        },
        {
          "output_type": "display_data",
          "data": {
            "text/plain": [
              "Downloading (…)of-00046.safetensors:   0%|          | 0.00/910M [00:00<?, ?B/s]"
            ],
            "application/vnd.jupyter.widget-view+json": {
              "version_major": 2,
              "version_minor": 0,
              "model_id": "f2f0e1ea1d5a4960afb533443e76f262"
            }
          },
          "metadata": {}
        },
        {
          "output_type": "display_data",
          "data": {
            "text/plain": [
              "Downloading (…)of-00046.safetensors:   0%|          | 0.00/910M [00:00<?, ?B/s]"
            ],
            "application/vnd.jupyter.widget-view+json": {
              "version_major": 2,
              "version_minor": 0,
              "model_id": "8804ee09effe44cd93a37b65d252e9d7"
            }
          },
          "metadata": {}
        },
        {
          "output_type": "display_data",
          "data": {
            "text/plain": [
              "Downloading (…)of-00046.safetensors:   0%|          | 0.00/910M [00:00<?, ?B/s]"
            ],
            "application/vnd.jupyter.widget-view+json": {
              "version_major": 2,
              "version_minor": 0,
              "model_id": "8d711780c52f476589e68ce166dc4ab4"
            }
          },
          "metadata": {}
        },
        {
          "output_type": "display_data",
          "data": {
            "text/plain": [
              "Downloading (…)of-00046.safetensors:   0%|          | 0.00/910M [00:00<?, ?B/s]"
            ],
            "application/vnd.jupyter.widget-view+json": {
              "version_major": 2,
              "version_minor": 0,
              "model_id": "544a2ba68a404688bf8417159f1e1c9a"
            }
          },
          "metadata": {}
        },
        {
          "output_type": "display_data",
          "data": {
            "text/plain": [
              "Downloading (…)of-00046.safetensors:   0%|          | 0.00/910M [00:00<?, ?B/s]"
            ],
            "application/vnd.jupyter.widget-view+json": {
              "version_major": 2,
              "version_minor": 0,
              "model_id": "146c0f1356924fe0a2c44bae469734e4"
            }
          },
          "metadata": {}
        },
        {
          "output_type": "display_data",
          "data": {
            "text/plain": [
              "Downloading (…)of-00046.safetensors:   0%|          | 0.00/910M [00:00<?, ?B/s]"
            ],
            "application/vnd.jupyter.widget-view+json": {
              "version_major": 2,
              "version_minor": 0,
              "model_id": "a6fa105c0cb249b78a332c05c59b7159"
            }
          },
          "metadata": {}
        },
        {
          "output_type": "display_data",
          "data": {
            "text/plain": [
              "Downloading (…)of-00046.safetensors:   0%|          | 0.00/910M [00:00<?, ?B/s]"
            ],
            "application/vnd.jupyter.widget-view+json": {
              "version_major": 2,
              "version_minor": 0,
              "model_id": "a7fc1c9f3793457492ef0b144b1bd2d4"
            }
          },
          "metadata": {}
        },
        {
          "output_type": "display_data",
          "data": {
            "text/plain": [
              "Downloading (…)of-00046.safetensors:   0%|          | 0.00/910M [00:00<?, ?B/s]"
            ],
            "application/vnd.jupyter.widget-view+json": {
              "version_major": 2,
              "version_minor": 0,
              "model_id": "154d094d1a75424684b17a87fa2552ce"
            }
          },
          "metadata": {}
        },
        {
          "output_type": "display_data",
          "data": {
            "text/plain": [
              "Downloading (…)of-00046.safetensors:   0%|          | 0.00/910M [00:00<?, ?B/s]"
            ],
            "application/vnd.jupyter.widget-view+json": {
              "version_major": 2,
              "version_minor": 0,
              "model_id": "68a04b4b5340477a9d53da369d4be56a"
            }
          },
          "metadata": {}
        },
        {
          "output_type": "display_data",
          "data": {
            "text/plain": [
              "Downloading (…)of-00046.safetensors:   0%|          | 0.00/910M [00:00<?, ?B/s]"
            ],
            "application/vnd.jupyter.widget-view+json": {
              "version_major": 2,
              "version_minor": 0,
              "model_id": "217ef8035de94d448c9654aa0adb4ce5"
            }
          },
          "metadata": {}
        },
        {
          "output_type": "display_data",
          "data": {
            "text/plain": [
              "Downloading (…)of-00046.safetensors:   0%|          | 0.00/910M [00:00<?, ?B/s]"
            ],
            "application/vnd.jupyter.widget-view+json": {
              "version_major": 2,
              "version_minor": 0,
              "model_id": "a1ab79eb5daf4d0e97778098d8e7a284"
            }
          },
          "metadata": {}
        },
        {
          "output_type": "display_data",
          "data": {
            "text/plain": [
              "Downloading (…)of-00046.safetensors:   0%|          | 0.00/910M [00:00<?, ?B/s]"
            ],
            "application/vnd.jupyter.widget-view+json": {
              "version_major": 2,
              "version_minor": 0,
              "model_id": "cd33e4c1538e4b8a8b1f74da59360b7b"
            }
          },
          "metadata": {}
        },
        {
          "output_type": "display_data",
          "data": {
            "text/plain": [
              "Downloading (…)of-00046.safetensors:   0%|          | 0.00/910M [00:00<?, ?B/s]"
            ],
            "application/vnd.jupyter.widget-view+json": {
              "version_major": 2,
              "version_minor": 0,
              "model_id": "4731d26f4d2d42088ac11b27830f65ce"
            }
          },
          "metadata": {}
        },
        {
          "output_type": "display_data",
          "data": {
            "text/plain": [
              "Downloading (…)of-00046.safetensors:   0%|          | 0.00/910M [00:00<?, ?B/s]"
            ],
            "application/vnd.jupyter.widget-view+json": {
              "version_major": 2,
              "version_minor": 0,
              "model_id": "834234f4e2da4718b19ea95302862c9f"
            }
          },
          "metadata": {}
        },
        {
          "output_type": "display_data",
          "data": {
            "text/plain": [
              "Downloading (…)of-00046.safetensors:   0%|          | 0.00/910M [00:00<?, ?B/s]"
            ],
            "application/vnd.jupyter.widget-view+json": {
              "version_major": 2,
              "version_minor": 0,
              "model_id": "85267bca8a77442fbed7702deca0df58"
            }
          },
          "metadata": {}
        },
        {
          "output_type": "display_data",
          "data": {
            "text/plain": [
              "Downloading (…)of-00046.safetensors:   0%|          | 0.00/910M [00:00<?, ?B/s]"
            ],
            "application/vnd.jupyter.widget-view+json": {
              "version_major": 2,
              "version_minor": 0,
              "model_id": "f3ed071450da4ac08ce22c157a8e4b37"
            }
          },
          "metadata": {}
        },
        {
          "output_type": "display_data",
          "data": {
            "text/plain": [
              "Downloading (…)of-00046.safetensors:   0%|          | 0.00/604M [00:00<?, ?B/s]"
            ],
            "application/vnd.jupyter.widget-view+json": {
              "version_major": 2,
              "version_minor": 0,
              "model_id": "ba747c6af83142ddafdd31d48faba0fe"
            }
          },
          "metadata": {}
        },
        {
          "output_type": "display_data",
          "data": {
            "text/plain": [
              "Downloading (…)of-00046.safetensors:   0%|          | 0.00/620M [00:00<?, ?B/s]"
            ],
            "application/vnd.jupyter.widget-view+json": {
              "version_major": 2,
              "version_minor": 0,
              "model_id": "30a67537526b4f349af4f0f3e83bcf42"
            }
          },
          "metadata": {}
        },
        {
          "output_type": "stream",
          "name": "stdout",
          "text": [
            "\n",
            "===================================BUG REPORT===================================\n",
            "Welcome to bitsandbytes. For bug reports, please run\n",
            "\n",
            "python -m bitsandbytes\n",
            "\n",
            " and submit this information together with your error trace to: https://github.com/TimDettmers/bitsandbytes/issues\n",
            "================================================================================\n",
            "bin /usr/local/lib/python3.10/dist-packages/bitsandbytes/libbitsandbytes_cuda118.so\n",
            "CUDA_SETUP: WARNING! libcudart.so not found in any environmental path. Searching in backup paths...\n",
            "CUDA SETUP: CUDA runtime path found: /usr/local/cuda/lib64/libcudart.so.11.0\n",
            "CUDA SETUP: Highest compute capability among GPUs detected: 7.5\n",
            "CUDA SETUP: Detected CUDA version 118\n",
            "CUDA SETUP: Loading binary /usr/local/lib/python3.10/dist-packages/bitsandbytes/libbitsandbytes_cuda118.so...\n"
          ]
        },
        {
          "output_type": "stream",
          "name": "stderr",
          "text": [
            "/usr/local/lib/python3.10/dist-packages/bitsandbytes/cuda_setup/main.py:149: UserWarning: /usr/lib64-nvidia did not contain ['libcudart.so', 'libcudart.so.11.0', 'libcudart.so.12.0'] as expected! Searching further paths...\n",
            "  warn(msg)\n",
            "/usr/local/lib/python3.10/dist-packages/bitsandbytes/cuda_setup/main.py:149: UserWarning: WARNING: The following directories listed in your path were found to be non-existent: {PosixPath('/sys/fs/cgroup/memory.events /var/colab/cgroup/jupyter-children/memory.events')}\n",
            "  warn(msg)\n",
            "/usr/local/lib/python3.10/dist-packages/bitsandbytes/cuda_setup/main.py:149: UserWarning: WARNING: The following directories listed in your path were found to be non-existent: {PosixPath('8013'), PosixPath('http'), PosixPath('//172.28.0.1')}\n",
            "  warn(msg)\n",
            "/usr/local/lib/python3.10/dist-packages/bitsandbytes/cuda_setup/main.py:149: UserWarning: WARNING: The following directories listed in your path were found to be non-existent: {PosixPath('--logtostderr --listen_host=172.28.0.12 --target_host=172.28.0.12 --tunnel_background_save_url=https'), PosixPath('//colab.research.google.com/tun/m/cc48301118ce562b961b3c22d803539adc1e0c19/gpu-t4-s-1efnc3smi84id --tunnel_background_save_delay=10s --tunnel_periodic_background_save_frequency=30m0s --enable_output_coalescing=true --output_coalescing_required=true')}\n",
            "  warn(msg)\n",
            "/usr/local/lib/python3.10/dist-packages/bitsandbytes/cuda_setup/main.py:149: UserWarning: WARNING: The following directories listed in your path were found to be non-existent: {PosixPath('/env/python')}\n",
            "  warn(msg)\n",
            "/usr/local/lib/python3.10/dist-packages/bitsandbytes/cuda_setup/main.py:149: UserWarning: WARNING: The following directories listed in your path were found to be non-existent: {PosixPath('module'), PosixPath('//ipykernel.pylab.backend_inline')}\n",
            "  warn(msg)\n",
            "/usr/local/lib/python3.10/dist-packages/bitsandbytes/cuda_setup/main.py:149: UserWarning: Found duplicate ['libcudart.so', 'libcudart.so.11.0', 'libcudart.so.12.0'] files: {PosixPath('/usr/local/cuda/lib64/libcudart.so.11.0'), PosixPath('/usr/local/cuda/lib64/libcudart.so')}.. We'll flip a coin and try one of these, in order to fail forward.\n",
            "Either way, this might cause trouble in the future:\n",
            "If you get `CUDA error: invalid device function` errors, the above might be the cause and the solution is to make sure only one ['libcudart.so', 'libcudart.so.11.0', 'libcudart.so.12.0'] in the paths that we search based on your env.\n",
            "  warn(msg)\n"
          ]
        },
        {
          "output_type": "display_data",
          "data": {
            "text/plain": [
              "Loading checkpoint shards:   0%|          | 0/46 [00:00<?, ?it/s]"
            ],
            "application/vnd.jupyter.widget-view+json": {
              "version_major": 2,
              "version_minor": 0,
              "model_id": "9196d4b349e6476499c120b11f1607fa"
            }
          },
          "metadata": {}
        }
      ]
    },
    {
      "cell_type": "markdown",
      "source": [
        "Applying some preprocessing to the model to prepare it for training.\n",
        "\n",
        "For that use the `prepare_model_for_kbit_training` method from PEFT."
      ],
      "metadata": {
        "id": "Mp2gMi1ZzGET"
      }
    },
    {
      "cell_type": "code",
      "source": [
        "from peft import prepare_model_for_kbit_training\n",
        "\n",
        "model.gradient_checkpointing_enable()\n",
        "model = prepare_model_for_kbit_training(model)"
      ],
      "metadata": {
        "id": "a9EUEDAl0ss3"
      },
      "execution_count": null,
      "outputs": []
    },
    {
      "cell_type": "code",
      "source": [
        "def print_trainable_parameters(model):\n",
        "    \"\"\"\n",
        "    Prints the number of trainable parameters in the model.\n",
        "    \"\"\"\n",
        "    trainable_params = 0\n",
        "    all_param = 0\n",
        "    for _, param in model.named_parameters():\n",
        "        all_param += param.numel()\n",
        "        if param.requires_grad:\n",
        "            trainable_params += param.numel()\n",
        "    print(\n",
        "        f\"trainable params: {trainable_params} || all params: {all_param} || trainable%: {100 * trainable_params / all_param}\"\n",
        "    )"
      ],
      "metadata": {
        "id": "gkIcwsSU01EB"
      },
      "execution_count": null,
      "outputs": []
    },
    {
      "cell_type": "code",
      "source": [
        "from peft import LoraConfig, get_peft_model\n",
        "\n",
        "config = LoraConfig(\n",
        "    r=8,\n",
        "    lora_alpha=32,\n",
        "    target_modules=[\"query_key_value\"],\n",
        "    lora_dropout=0.05,\n",
        "    bias=\"none\",\n",
        "    task_type=\"CAUSAL_LM\"\n",
        ")\n",
        "\n",
        "model = get_peft_model(model, config)\n",
        "print_trainable_parameters(model)"
      ],
      "metadata": {
        "colab": {
          "base_uri": "https://localhost:8080/"
        },
        "id": "Ybeyl20n3dYH",
        "outputId": "43219a92-11c7-4269-f651-fd1618f2e3cb"
      },
      "execution_count": null,
      "outputs": [
        {
          "output_type": "stream",
          "name": "stdout",
          "text": [
            "trainable params: 8650752 || all params: 10597552128 || trainable%: 0.08162971878329976\n"
          ]
        }
      ]
    },
    {
      "cell_type": "markdown",
      "source": [
        "Loading the english quotes dataset to fine tune our model on famous quotes."
      ],
      "metadata": {
        "id": "FCc64bfnmd3j"
      }
    },
    {
      "cell_type": "code",
      "source": [
        "from datasets import load_dataset\n",
        "\n",
        "data = load_dataset(\"Abirate/english_quotes\")\n",
        "data = data.map(lambda samples: tokenizer(samples[\"quote\"]), batched=True)"
      ],
      "metadata": {
        "colab": {
          "base_uri": "https://localhost:8080/",
          "height": 232,
          "referenced_widgets": [
            "66d4e1db7ffb4ddfa44751146941499d",
            "17648774c46f43baaa5b6bede58d9c77",
            "1486ef2e354a435caf23fbe27d482739",
            "4a21ceb3ff4b484db295470eebcd2be2",
            "6b29b812850d44f1a2205db6d109ee75",
            "3b7eecbb961b4e0a95c75086d025b1cc",
            "6ad69fa6e7f34198abd09f331399783a",
            "3d5b4be9462e49e7a18f2a86b9b58573",
            "1894030410734824a16151715a244dbb",
            "c2ad23fb37a645ac8a5e91e42ee787f3",
            "40ed4fad58d2479b8743a6b4c4be9edf",
            "f06ab120a0d64e198f9be77f67986003",
            "52de7865f76b4da890c88aa50fe9e6c5",
            "cd97ee838af84624b8096c6b6829fe3f",
            "7d657d7ca7124f1b81398e0ab22845ac",
            "15b9e83593c94936a8c272c9ca24e370",
            "05795260b6d54d1b840be2c82f9b6ad5",
            "66dc8c7d027a49c8bcad801a1fe27eb3",
            "fe3cb87f534a44cd989ccca40238da75",
            "a29cc2ddb8d64db08353d8d37bf3294c",
            "1c1364b1650740c78f3e999ac9be694b",
            "08837d49ef8544f18ac0a8e931624b15",
            "b27d5a7ef8704610a90c76eb26799918",
            "643b80886a154d7fa52e01f3e2455730",
            "bdc45c451805452abb7d2f39144f7932",
            "ab29fe2ac2634c908e2a3a8a25316d0a",
            "0f5cac2418f94eada8eb9a99be541e98",
            "d8139e047a174cc49da85f8e86b17dd1",
            "d3f6930114f340d9b904072dcb421c9c",
            "51539010d8af4a6eba31a410928b53bd",
            "a5c374c1b86e4074834a3330c120bbee",
            "4a59a2f5735441628d5a4a0e6f0eba95",
            "d91ddcbca98544bc82bb0df014084ba2",
            "f79e95663d4442ac8ff2b7f6f054708f",
            "89b98f93863a453c8e8c01daf73f5035",
            "3b49958278884a2f8ca27754f3c4bcf9",
            "d12383b73bf54cbbb579db29d22f9996",
            "7d5903ef44654c2f88af28ef8f80e585",
            "0c31d5b887d349f19f6d2ea88793d78a",
            "b09df0d2194d45fc9c143cbb9018e42d",
            "2914a58956674701b5da8100e13dd0d8",
            "7eb7e15bdce045b6b035f4fcf2dd8cf6",
            "6ec0e609b99947ac9092a414044651e4",
            "87a6d43e58dc490b8b90567a5224e43f",
            "9db84319d60d43538d79bfb536dc2eb5",
            "ad2f2f2f60ab498f86238f907820e964",
            "bbb77a180e2844779e0a14a0c7ddf9be",
            "cf0f60fd414e42c4bece022c0e4f6ec4",
            "d65c0140f796465e969c072217309618",
            "a2ad433fd4fa45e28a60d8fd6f152e68",
            "c9e52d4628334a8e9e064882403797bd",
            "91eaff9ab66844fea0fc48fda39a793f",
            "9d61c9c761504644862d65c59d5a7950",
            "d5ac73fe113f418f96bbddee9bfbf15a",
            "29b43ccc0c3e4197a422597e6aea8e47",
            "60acefedfd7a46719945db3ad75c3dad",
            "1a974eec3a9c4a499838198c95356b1e",
            "ea027682a01e49d9a45392171def8541",
            "9bb6fe075d744a9a9e09be47477edd5c",
            "240293f20a8241ed91013c80b90f0c5c",
            "a46eeccbe6154fa8ac3ccee0d809e6e2",
            "a30035824cfc42c5ba6e3a1b9835388c",
            "2717bc94f8e6481db78710cc335c4b34",
            "3c4b777622884ddab71b148c2c477d9c",
            "2b184320f9cd415ebe1075401db40058",
            "251a94408be146ee95bdbf10cd4bac36",
            "f61f1183e5d946b19dcaee35d33fb7a7",
            "6661381502a946b4a1789589bb7244e5",
            "1d6a87a3f5fe48f18228d491fdf5d06e",
            "534aaf395aac4c9a8fe3ff7d6ae4f22d",
            "69fb591783674e43bc91b4c7428669ab",
            "516891d256984baebd1aca07ac81df7a",
            "ad4143b827b149d39b18dd068d112c19",
            "82b9aa5229ed4be8bbf6b6791e57dd88",
            "ebd41b8e0f7d453fa7529e2d5c1ea352",
            "3a269b6b4abb4ad3a4a8973847ddfb63",
            "eb6b2706845d48d8803a2c8e94b6d370"
          ]
        },
        "id": "s6f4z8EYmcJ6",
        "outputId": "08b5e6ee-96ec-4383-ccec-b7b66f1ce126"
      },
      "execution_count": null,
      "outputs": [
        {
          "output_type": "display_data",
          "data": {
            "text/plain": [
              "Downloading readme:   0%|          | 0.00/5.55k [00:00<?, ?B/s]"
            ],
            "application/vnd.jupyter.widget-view+json": {
              "version_major": 2,
              "version_minor": 0,
              "model_id": "66d4e1db7ffb4ddfa44751146941499d"
            }
          },
          "metadata": {}
        },
        {
          "output_type": "stream",
          "name": "stdout",
          "text": [
            "Downloading and preparing dataset json/Abirate--english_quotes to /root/.cache/huggingface/datasets/Abirate___json/Abirate--english_quotes-6e72855d06356857/0.0.0/e347ab1c932092252e717ff3f949105a4dd28b27e842dd53157d2f72e276c2e4...\n"
          ]
        },
        {
          "output_type": "display_data",
          "data": {
            "text/plain": [
              "Downloading data files:   0%|          | 0/1 [00:00<?, ?it/s]"
            ],
            "application/vnd.jupyter.widget-view+json": {
              "version_major": 2,
              "version_minor": 0,
              "model_id": "f06ab120a0d64e198f9be77f67986003"
            }
          },
          "metadata": {}
        },
        {
          "output_type": "display_data",
          "data": {
            "text/plain": [
              "Downloading data:   0%|          | 0.00/647k [00:00<?, ?B/s]"
            ],
            "application/vnd.jupyter.widget-view+json": {
              "version_major": 2,
              "version_minor": 0,
              "model_id": "b27d5a7ef8704610a90c76eb26799918"
            }
          },
          "metadata": {}
        },
        {
          "output_type": "display_data",
          "data": {
            "text/plain": [
              "Extracting data files:   0%|          | 0/1 [00:00<?, ?it/s]"
            ],
            "application/vnd.jupyter.widget-view+json": {
              "version_major": 2,
              "version_minor": 0,
              "model_id": "f79e95663d4442ac8ff2b7f6f054708f"
            }
          },
          "metadata": {}
        },
        {
          "output_type": "display_data",
          "data": {
            "text/plain": [
              "Generating train split: 0 examples [00:00, ? examples/s]"
            ],
            "application/vnd.jupyter.widget-view+json": {
              "version_major": 2,
              "version_minor": 0,
              "model_id": "9db84319d60d43538d79bfb536dc2eb5"
            }
          },
          "metadata": {}
        },
        {
          "output_type": "stream",
          "name": "stdout",
          "text": [
            "Dataset json downloaded and prepared to /root/.cache/huggingface/datasets/Abirate___json/Abirate--english_quotes-6e72855d06356857/0.0.0/e347ab1c932092252e717ff3f949105a4dd28b27e842dd53157d2f72e276c2e4. Subsequent calls will reuse this data.\n"
          ]
        },
        {
          "output_type": "display_data",
          "data": {
            "text/plain": [
              "  0%|          | 0/1 [00:00<?, ?it/s]"
            ],
            "application/vnd.jupyter.widget-view+json": {
              "version_major": 2,
              "version_minor": 0,
              "model_id": "60acefedfd7a46719945db3ad75c3dad"
            }
          },
          "metadata": {}
        },
        {
          "output_type": "display_data",
          "data": {
            "text/plain": [
              "Map:   0%|          | 0/2508 [00:00<?, ? examples/s]"
            ],
            "application/vnd.jupyter.widget-view+json": {
              "version_major": 2,
              "version_minor": 0,
              "model_id": "f61f1183e5d946b19dcaee35d33fb7a7"
            }
          },
          "metadata": {}
        }
      ]
    },
    {
      "cell_type": "markdown",
      "source": [
        "The cell below is to run the training\n",
        "\n",
        "For the demo, ran it for few steps just to showcase how to use this integration with existing tools on the HF ecosystem."
      ],
      "metadata": {
        "id": "_0MOtwf3zdZp"
      }
    },
    {
      "cell_type": "code",
      "source": [
        "import transformers\n",
        "\n",
        "# needed for gpt-neo-x tokenizer\n",
        "tokenizer.pad_token = tokenizer.eos_token\n",
        "\n",
        "trainer = transformers.Trainer(\n",
        "    model=model,\n",
        "    train_dataset=data[\"train\"],\n",
        "    args=transformers.TrainingArguments(\n",
        "        per_device_train_batch_size=1,\n",
        "        gradient_accumulation_steps=4,\n",
        "        warmup_steps=2,\n",
        "        max_steps=10,\n",
        "        learning_rate=2e-4,\n",
        "        fp16=True,\n",
        "        logging_steps=1,\n",
        "        output_dir=\"outputs\",\n",
        "        optim=\"paged_adamw_8bit\"\n",
        "    ),\n",
        "    data_collator=transformers.DataCollatorForLanguageModeling(tokenizer, mlm=False),\n",
        ")\n",
        "model.config.use_cache = False  # silence the warnings. Please re-enable for inference!\n",
        "trainer.train()"
      ],
      "metadata": {
        "colab": {
          "base_uri": "https://localhost:8080/",
          "height": 513
        },
        "id": "jq0nX33BmfaC",
        "outputId": "93fccb62-5c55-4c23-91f8-8470e0f32176"
      },
      "execution_count": null,
      "outputs": [
        {
          "output_type": "stream",
          "name": "stderr",
          "text": [
            "You're using a GPTNeoXTokenizerFast tokenizer. Please note that with a fast tokenizer, using the `__call__` method is faster than using a method to encode the text followed by a call to the `pad` method to get a padded encoding.\n",
            "/usr/local/lib/python3.10/dist-packages/transformers/models/gpt_neox/modeling_gpt_neox.py:229: UserWarning: where received a uint8 condition tensor. This behavior is deprecated and will be removed in a future version of PyTorch. Use a boolean condition instead. (Triggered internally at ../aten/src/ATen/native/TensorCompare.cpp:493.)\n",
            "  attn_scores = torch.where(causal_mask, attn_scores, mask_value)\n"
          ]
        },
        {
          "output_type": "display_data",
          "data": {
            "text/plain": [
              "<IPython.core.display.HTML object>"
            ],
            "text/html": [
              "\n",
              "    <div>\n",
              "      \n",
              "      <progress value='10' max='10' style='width:300px; height:20px; vertical-align: middle;'></progress>\n",
              "      [10/10 02:30, Epoch 0/1]\n",
              "    </div>\n",
              "    <table border=\"1\" class=\"dataframe\">\n",
              "  <thead>\n",
              " <tr style=\"text-align: left;\">\n",
              "      <th>Step</th>\n",
              "      <th>Training Loss</th>\n",
              "    </tr>\n",
              "  </thead>\n",
              "  <tbody>\n",
              "    <tr>\n",
              "      <td>1</td>\n",
              "      <td>2.382300</td>\n",
              "    </tr>\n",
              "    <tr>\n",
              "      <td>2</td>\n",
              "      <td>3.283100</td>\n",
              "    </tr>\n",
              "    <tr>\n",
              "      <td>3</td>\n",
              "      <td>2.303600</td>\n",
              "    </tr>\n",
              "    <tr>\n",
              "      <td>4</td>\n",
              "      <td>2.823700</td>\n",
              "    </tr>\n",
              "    <tr>\n",
              "      <td>5</td>\n",
              "      <td>2.639000</td>\n",
              "    </tr>\n",
              "    <tr>\n",
              "      <td>6</td>\n",
              "      <td>2.217600</td>\n",
              "    </tr>\n",
              "    <tr>\n",
              "      <td>7</td>\n",
              "      <td>2.300100</td>\n",
              "    </tr>\n",
              "    <tr>\n",
              "      <td>8</td>\n",
              "      <td>1.480500</td>\n",
              "    </tr>\n",
              "    <tr>\n",
              "      <td>9</td>\n",
              "      <td>2.447800</td>\n",
              "    </tr>\n",
              "    <tr>\n",
              "      <td>10</td>\n",
              "      <td>2.466000</td>\n",
              "    </tr>\n",
              "  </tbody>\n",
              "</table><p>"
            ]
          },
          "metadata": {}
        },
        {
          "output_type": "execute_result",
          "data": {
            "text/plain": [
              "TrainOutput(global_step=10, training_loss=2.434360909461975, metrics={'train_runtime': 169.887, 'train_samples_per_second': 0.235, 'train_steps_per_second': 0.059, 'total_flos': 99255709532160.0, 'train_loss': 2.434360909461975, 'epoch': 0.02})"
            ]
          },
          "metadata": {},
          "execution_count": 7
        }
      ]
    },
    {
      "cell_type": "code",
      "source": [
        "model_to_save = trainer.model.module if hasattr(trainer.model, 'module') else trainer.model  # Take care of distributed/parallel training\n",
        "model_to_save.save_pretrained(\"outputs\")"
      ],
      "metadata": {
        "id": "p66mZk1RAlOR"
      },
      "execution_count": null,
      "outputs": []
    },
    {
      "cell_type": "code",
      "source": [
        "lora_config = LoraConfig.from_pretrained('outputs')\n",
        "model = get_peft_model(model, lora_config)"
      ],
      "metadata": {
        "id": "L2Hllu-bCuN6"
      },
      "execution_count": null,
      "outputs": []
    },
    {
      "cell_type": "code",
      "source": [
        "text = \"Elon Musk \"\n",
        "device = \"cuda:0\"\n",
        "\n",
        "inputs = tokenizer(text, return_tensors=\"pt\").to(device)\n",
        "outputs = model.generate(**inputs, max_new_tokens=20)\n",
        "print(tokenizer.decode(outputs[0], skip_special_tokens=True))"
      ],
      "metadata": {
        "id": "T1TiIH6vAlr_",
        "outputId": "0aa79907-70a3-44dd-d298-c2a375f5a4a0",
        "colab": {
          "base_uri": "https://localhost:8080/"
        }
      },
      "execution_count": null,
      "outputs": [
        {
          "output_type": "stream",
          "name": "stderr",
          "text": [
            "Setting `pad_token_id` to `eos_token_id`:0 for open-end generation.\n"
          ]
        },
        {
          "output_type": "stream",
          "name": "stdout",
          "text": [
            "Elon Musk \n",
            "Elon Musk is a South African-born Canadian-American business magnate, investor, engineer\n"
          ]
        }
      ]
    }
  ]
}